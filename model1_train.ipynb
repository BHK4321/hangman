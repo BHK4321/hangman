{
 "cells": [
  {
   "cell_type": "code",
   "execution_count": null,
   "metadata": {
    "execution": {
     "iopub.execute_input": "2025-06-12T10:50:07.958183Z",
     "iopub.status.busy": "2025-06-12T10:50:07.957587Z",
     "iopub.status.idle": "2025-06-12T10:50:07.963235Z",
     "shell.execute_reply": "2025-06-12T10:50:07.962337Z",
     "shell.execute_reply.started": "2025-06-12T10:50:07.958160Z"
    },
    "id": "riTH7zzDE2BV",
    "scrolled": true,
    "trusted": true
   },
   "outputs": [],
   "source": [
    "import json\n",
    "import os\n",
    "import requests\n",
    "import random\n",
    "import string\n",
    "import secrets\n",
    "import time\n",
    "import re\n",
    "import collections\n",
    "import torch\n",
    "import torch.nn as nn\n",
    "import torch.optim as optim\n",
    "import torch.nn.functional as F\n",
    "from torch.utils.data import Dataset, DataLoader\n",
    "from torch.utils.data import random_split\n",
    "from torch.optim.lr_scheduler import ReduceLROnPlateau\n",
    "import copy\n",
    "import numpy as np\n",
    "from collections import defaultdict"
   ]
  },
  {
   "cell_type": "code",
   "execution_count": null,
   "metadata": {
    "execution": {
     "iopub.execute_input": "2025-06-12T10:59:30.930636Z",
     "iopub.status.busy": "2025-06-12T10:59:30.930377Z",
     "iopub.status.idle": "2025-06-12T10:59:30.969955Z",
     "shell.execute_reply": "2025-06-12T10:59:30.969122Z",
     "shell.execute_reply.started": "2025-06-12T10:59:30.930617Z"
    },
    "id": "GUqT0NwWE2BX",
    "trusted": true
   },
   "outputs": [],
   "source": [
    "\n",
    "import torch\n",
    "import torch.nn as nn\n",
    "import torch.nn.functional as F\n",
    "from torch.utils.data import Dataset, DataLoader, random_split\n",
    "import torch.optim as optim\n",
    "from torch.optim.lr_scheduler import ReduceLROnPlateau\n",
    "import random, string, copy\n",
    "from collections import Counter\n",
    "\n",
    "class HangmanDataset(Dataset):\n",
    "    def __init__(self, words, max_word_length=45, reveal_ratio=0.5):\n",
    "        self.words = [word.lower() for word in words if len(word) <= max_word_length]\n",
    "        self.max_length = max_word_length\n",
    "        self.reveal_ratio = reveal_ratio\n",
    "        self.char_to_idx = {char: i+1 for i, char in enumerate(string.ascii_lowercase)}\n",
    "        self.char_to_idx['_'] = 0  # blank\n",
    "        self.char_to_idx['PAD'] = 27\n",
    "\n",
    "    def __len__(self): return len(self.words) * 80\n",
    "\n",
    "    def __getitem__(self, idx):\n",
    "        word = self.words[idx % len(self.words)]\n",
    "        reveal_count = int(len(word) * self.reveal_ratio)\n",
    "        revealed = random.sample(range(len(word)), reveal_count) if reveal_count > 0 else []\n",
    "\n",
    "        word_state = [0] * self.max_length\n",
    "        for pos in revealed: word_state[pos] = self.char_to_idx[word[pos]]\n",
    "\n",
    "        target_pos, target_chars, position_context, vowels = [], [], [0]*self.max_length, set('aeiou')\n",
    "        for i in range(len(word)):\n",
    "            if i not in revealed:\n",
    "                ctx = 0\n",
    "                if i > 0 and word_state[i-1] != 0: ctx += 1\n",
    "                if i < len(word)-1 and word_state[i+1] != 0: ctx += 2\n",
    "                if ctx:\n",
    "                    target_pos.append(i)\n",
    "                    target_chars.append(self.char_to_idx[word[i]])\n",
    "                    position_context[i] = ctx\n",
    "\n",
    "        count_blanks = word_state[:len(word)].count(0)\n",
    "        blank_vowel_next = [0]*self.max_length\n",
    "        for i in range(len(word)):\n",
    "            if word_state[i] == 0:\n",
    "                l = word[i-1] if i > 0 else 'x'\n",
    "                r = word[i+1] if i < len(word)-1 else 'x'\n",
    "                if l in vowels or r in vowels:\n",
    "                    blank_vowel_next[i] = 1\n",
    "\n",
    "        max_targets = 10\n",
    "        while len(target_pos) < max_targets:\n",
    "            target_pos.append(-1)\n",
    "            target_chars.append(0)\n",
    "\n",
    "        return {\n",
    "            'word_state': torch.tensor(word_state, dtype=torch.long),\n",
    "            'position_context': torch.tensor(position_context, dtype=torch.long),\n",
    "            'target_positions': torch.tensor(target_pos[:max_targets], dtype=torch.long),\n",
    "            'target_chars': torch.tensor(target_chars[:max_targets], dtype=torch.long),\n",
    "            'word_length': torch.tensor(len(word), dtype=torch.long),\n",
    "            'blank_count': torch.tensor(count_blanks, dtype=torch.long),\n",
    "            'next_to_vowel': torch.tensor(blank_vowel_next, dtype=torch.float)\n",
    "        }\n",
    "\n",
    "class EnhancedHangmanModel(nn.Module):\n",
    "    def __init__(self, vocab_size=28, max_len=45, emb_dim=128, hidden_dim=1024, ablate={}):\n",
    "        super().__init__()\n",
    "        self.ablate = ablate\n",
    "        self.char_emb = nn.Embedding(vocab_size, emb_dim)\n",
    "        self.ctx_emb = nn.Embedding(4, 32)\n",
    "\n",
    "        self.pattern_cnn = nn.Sequential(\n",
    "            nn.Conv1d(emb_dim, 64, 3, padding=1), nn.ReLU(), nn.Dropout(0.2),\n",
    "            nn.Conv1d(64, 64, 3, padding=1), nn.ReLU(), nn.Dropout(0.2)\n",
    "        )\n",
    "\n",
    "        self.encoder = nn.LSTM(emb_dim + 32, hidden_dim, bidirectional=True, batch_first=True)\n",
    "\n",
    "        self.pos_prior_mlp = nn.Sequential(\n",
    "            nn.Linear(1 + 1 + 64, 32), nn.ReLU(), nn.Dropout(0.2), nn.Linear(32, 26)\n",
    "        )\n",
    "\n",
    "        def decoder():\n",
    "            return nn.Sequential(\n",
    "                nn.Linear(hidden_dim*2 + 26, hidden_dim),\n",
    "                nn.ReLU(),\n",
    "                nn.Dropout(0.3),\n",
    "\n",
    "                nn.Linear(hidden_dim, hidden_dim // 2),\n",
    "                nn.ReLU(),\n",
    "                nn.Dropout(0.3),\n",
    "\n",
    "                nn.Linear(hidden_dim // 2, 26)\n",
    "            )\n",
    "\n",
    "        self.left_decoder = decoder()\n",
    "        self.right_decoder = decoder()\n",
    "        self.both_decoder = decoder()\n",
    "\n",
    "    def forward(self, word_state, position_context, word_length, blank_count, next_to_vowel):\n",
    "        B, L = word_state.size()\n",
    "        emb = self.char_emb(word_state)\n",
    "        cnn_feat = self.pattern_cnn(emb.transpose(1, 2)).transpose(1, 2)\n",
    "        ctx = self.ctx_emb(position_context)\n",
    "        encoded, _ = self.encoder(torch.cat([emb, ctx], -1))\n",
    "\n",
    "        pos_scores = []\n",
    "        for i in range(L):\n",
    "            is_blank = (word_state[:, i] == 0).float().unsqueeze(1)\n",
    "            bc = blank_count.unsqueeze(1).float() / L\n",
    "            pos_input = torch.cat([is_blank, bc, cnn_feat[:, i, :]], -1)\n",
    "            pos_scores.append(self.pos_prior_mlp(pos_input).unsqueeze(1))\n",
    "        priors = torch.cat(pos_scores, 1)  # [B, L, 26]\n",
    "\n",
    "        out = torch.zeros(B, L, 26, device=word_state.device)\n",
    "        for i in range(L):\n",
    "            h = encoded[:, i, :]\n",
    "            ptype = position_context[:, i]\n",
    "            inp = torch.cat([h, priors[:, i, :]], -1)\n",
    "            out[ptype==1, i, :] = self.left_decoder(inp[ptype==1])\n",
    "            out[ptype==2, i, :] = self.right_decoder(inp[ptype==2])\n",
    "            out[ptype==3, i, :] = self.both_decoder(inp[ptype==3])\n",
    "\n",
    "        return out\n",
    "\n",
    "class HangmanSolver:\n",
    "    def __init__(self, word_list, model_path=\"best_model.pth\"):\n",
    "        self.model = EnhancedHangmanModel()\n",
    "        self.device = torch.device('cuda' if torch.cuda.is_available() else 'cpu')\n",
    "        # Load state dict without DataParallel\n",
    "        self.model.load_state_dict(torch.load(model_path, map_location=self.device))\n",
    "\n",
    "        # Now optionally wrap in DataParallel AFTER loading\n",
    "        if torch.cuda.device_count() > 1:\n",
    "            self.model = nn.DataParallel(self.model)\n",
    "\n",
    "        self.model.eval()\n",
    "\n",
    "        self.dictionary = word_list\n",
    "        self.char_to_idx = {c: i+1 for i, c in enumerate(string.ascii_lowercase)}\n",
    "        self.char_to_idx['_'] = 0\n",
    "        self.idx_to_char = {v: k for k, v in self.char_to_idx.items() if v != 0}\n",
    "\n",
    "    def _fallback_prediction(self, pattern, guessed):\n",
    "        counter = Counter()\n",
    "        for word in self.dictionary:\n",
    "            if len(word) != len(pattern):\n",
    "                continue\n",
    "            match = True\n",
    "            for wc, pc in zip(word, pattern):\n",
    "                if pc != '_' and pc != wc:\n",
    "                    match = False\n",
    "                    break\n",
    "                if pc == '_' and wc in guessed:\n",
    "                    match = False\n",
    "                    break\n",
    "            if match:\n",
    "                for i, c in enumerate(word):\n",
    "                    if pattern[i] == '_' and c not in guessed:\n",
    "                        counter[c] += 1\n",
    "\n",
    "        if not counter:\n",
    "            for c in string.ascii_lowercase:\n",
    "                if c not in guessed:\n",
    "                    return c\n",
    "            return random.choice([c for c in string.ascii_lowercase if c not in guessed])  # final fallback\n",
    "\n",
    "        for letter, _ in counter.most_common():\n",
    "            if letter not in guessed:\n",
    "                return letter\n",
    "\n",
    "        return random.choice([c for c in string.ascii_lowercase if c not in guessed])\n",
    "\n",
    "    def predict_letter(self, word_state, guessed_letters=None):\n",
    "        if guessed_letters is None:\n",
    "            guessed_letters = set()\n",
    "        if ' ' in word_state:\n",
    "            word_state = word_state.replace(' ', '')\n",
    "        if all(c == '_' for c in word_state):\n",
    "            # Return most frequent unguessed letter as the first guess\n",
    "            common_order = \"etaoinshrdlucmfwypvbgkjqxz\"\n",
    "            for letter in common_order:\n",
    "                if letter not in guessed_letters:\n",
    "                    return letter\n",
    "        print(\"ok\")\n",
    "        word_state = word_state.lower()\n",
    "        max_length = 45\n",
    "        state_indices = []\n",
    "        position_context = []\n",
    "\n",
    "        for i, char in enumerate(word_state):\n",
    "            if char == '_':\n",
    "                state_indices.append(0)\n",
    "                context = 0\n",
    "                if i > 0 and word_state[i-1] != '_':\n",
    "                    context += 1\n",
    "                if i < len(word_state)-1 and word_state[i+1] != '_':\n",
    "                    context += 2\n",
    "                position_context.append(context)\n",
    "            else:\n",
    "                state_indices.append(self.char_to_idx.get(char, 27))\n",
    "                position_context.append(0)\n",
    "\n",
    "        while len(state_indices) < max_length:\n",
    "            state_indices.append(27)\n",
    "            position_context.append(0)\n",
    "\n",
    "        word_tensor = torch.tensor([state_indices], dtype=torch.long).to(self.device)\n",
    "        context_tensor = torch.tensor([position_context], dtype=torch.long).to(self.device)\n",
    "        length_tensor = torch.tensor([len(word_state)], dtype=torch.long).to(self.device)\n",
    "        blank_count_tensor = torch.tensor([word_state.count('_')], dtype=torch.long).to(self.device)\n",
    "        blank_vowel_next = [0]*max_length\n",
    "\n",
    "        for i in range(len(word_state)):\n",
    "            if word_state[i] == '_':\n",
    "                l = word_state[i-1] if i > 0 else 'x'\n",
    "                r = word_state[i+1] if i < len(word_state)-1 else 'x'\n",
    "                if l in 'aeiou' or r in 'aeiou':\n",
    "                    blank_vowel_next[i] = 1\n",
    "\n",
    "        blank_vowel_tensor = torch.tensor([blank_vowel_next], dtype=torch.float).to(self.device)\n",
    "\n",
    "        with torch.no_grad():\n",
    "            predictions = self.model(word_tensor, context_tensor, length_tensor, blank_count_tensor, blank_vowel_tensor)\n",
    "\n",
    "        best_predictions = []\n",
    "        for i in range(len(word_state)):\n",
    "            if word_state[i] == '_' and position_context[i] > 0:\n",
    "                probs = torch.softmax(predictions[0, i, :], dim=0)\n",
    "                for j, prob in enumerate(probs):\n",
    "                    letter = chr(ord('a') + j)\n",
    "                    if letter not in guessed_letters:\n",
    "                        best_predictions.append((letter, prob.item(), i))\n",
    "\n",
    "        if not best_predictions:\n",
    "            for i in range(len(word_state)):\n",
    "                if word_state[i] == '_':\n",
    "                    probs = torch.softmax(predictions[0, i, :], dim=0)\n",
    "                    for j, prob in enumerate(probs):\n",
    "                        letter = chr(ord('a') + j)\n",
    "                        if letter not in guessed_letters:\n",
    "                            best_predictions.append((letter, prob.item(), i))\n",
    "\n",
    "        if best_predictions:\n",
    "            best_predictions.sort(key=lambda x: x[1], reverse=True)\n",
    "            return best_predictions[0][0]\n",
    "        \n",
    "        # Fallback to frequency-based guess if model fails\n",
    "        common_order = \"etaoinshrdlucmfwypvbgkjqxz\"\n",
    "        for letter in common_order:\n",
    "            if letter not in guessed_letters:\n",
    "                return letter\n",
    "\n",
    "        return 'e'  # very rare fallback if all else fails\n",
    "\n",
    "from tqdm import tqdm\n",
    "\n",
    "def train_model(words, epochs=10, early_stopping_patience=5):\n",
    "    device = torch.device('cuda' if torch.cuda.is_available() else 'cpu')\n",
    "    model = EnhancedHangmanModel()\n",
    "    if torch.cuda.device_count() > 1:\n",
    "        model = nn.DataParallel(model)\n",
    "    model.to(device)\n",
    "\n",
    "    opt = optim.Adam(model.parameters(), lr=1e-3, weight_decay=1e-5)\n",
    "    scheduler = ReduceLROnPlateau(opt, patience=2)\n",
    "    loss_fn = nn.CrossEntropyLoss()\n",
    "\n",
    "    best = float('inf')\n",
    "    patience_counter = 0\n",
    "\n",
    "    for ep in range(epochs):\n",
    "        # Curriculum: reveal_ratio increases with epoch (starts hard, becomes easier)\n",
    "        reveal_ratio = max(0.1, 1.0 - (ep+1) * 0.02)  # Start from 1.0, decrease to 0.1\n",
    "        ds = HangmanDataset(words, reveal_ratio=reveal_ratio)\n",
    "        train_len = int(0.9 * len(ds))\n",
    "        tr, val = random_split(ds, [train_len, len(ds)-train_len])\n",
    "        dl = DataLoader(tr, shuffle=True, pin_memory=True, batch_size=256, num_workers=4)\n",
    "        vl = DataLoader(val, pin_memory=True, batch_size=256, num_workers=4)\n",
    "\n",
    "        print(f\"\\n--- Epoch {ep+1} | Reveal Ratio: {reveal_ratio:.2f} ---\", flush=True)\n",
    "        model.train()\n",
    "        total_loss = 0\n",
    "        batch_count = 0\n",
    "\n",
    "        for i, batch in enumerate(tqdm(dl, desc=\"Training\", ncols=100)):\n",
    "            opt.zero_grad()\n",
    "            out = model(batch['word_state'].to(device), batch['position_context'].to(device),\n",
    "                        batch['word_length'].to(device), batch['blank_count'].to(device),\n",
    "                        batch['next_to_vowel'].to(device))\n",
    "            loss, count = 0, 0\n",
    "            for b in range(out.size(0)):\n",
    "                target_pos = batch['target_positions'][b].to(device)\n",
    "                target_char = batch['target_chars'][b].to(device)\n",
    "                for p, c in zip(target_pos, target_char):\n",
    "                    if p >= 0 and c > 0:\n",
    "                        loss += loss_fn(out[b, p], c-1)\n",
    "                        count += 1\n",
    "            if count > 0:\n",
    "                loss = loss / count\n",
    "                loss.backward()\n",
    "                opt.step()\n",
    "                total_loss += loss.item()\n",
    "                batch_count += 1\n",
    "            if i % 20 == 0:\n",
    "                if isinstance(loss, torch.Tensor):\n",
    "                    print(f\"  Batch {i}/{len(dl)} | Loss: {loss.item():.4f}\", flush=True)\n",
    "                else:\n",
    "                    print(f\"  Batch {i}/{len(dl)} | Loss: N/A (no valid targets)\", flush=True)\n",
    "\n",
    "\n",
    "        train_loss = total_loss / batch_count if batch_count > 0 else 0\n",
    "\n",
    "        # Validation\n",
    "        model.eval()\n",
    "        val_loss = 0\n",
    "        val_batches = 0\n",
    "        with torch.no_grad():\n",
    "            for batch in tqdm(vl, desc=\"Validation\", ncols=100):\n",
    "                out = model(batch['word_state'].to(device), batch['position_context'].to(device),\n",
    "                            batch['word_length'].to(device), batch['blank_count'].to(device),\n",
    "                            batch['next_to_vowel'].to(device))\n",
    "                loss, count = 0, 0\n",
    "                for b in range(out.size(0)):\n",
    "                    target_pos = batch['target_positions'][b].to(device)\n",
    "                    target_char = batch['target_chars'][b].to(device)\n",
    "                    for p, c in zip(target_pos, target_char):\n",
    "                        if p >= 0 and c > 0:\n",
    "                            loss += loss_fn(out[b, p], c-1)\n",
    "                            count += 1\n",
    "                if count > 0:\n",
    "                    val_loss += loss.item() / count\n",
    "                    val_batches += 1\n",
    "\n",
    "        val_loss = val_loss / val_batches if val_batches > 0 else 0\n",
    "        scheduler.step(val_loss)\n",
    "\n",
    "        if count > 0 and i % 20 == 0:\n",
    "            print(f\"  Batch {i}/{len(dl)} | Loss: {loss.item():.4f}\", flush=True)\n",
    "\n",
    "        if val_loss < best:\n",
    "            best = val_loss\n",
    "            patience_counter = 0\n",
    "            torch.save(model.module.state_dict() if isinstance(model, nn.DataParallel) else model.state_dict(), \"best_model.pth\")\n",
    "            print(\"✅ Model improved and saved.\", flush=True)\n",
    "        else:\n",
    "            patience_counter += 1\n",
    "            print(f\"⚠️ No improvement. Patience: {patience_counter}/{early_stopping_patience}\", flush=True)\n",
    "            if patience_counter >= early_stopping_patience:\n",
    "                print(f\"🛑 Early stopping at epoch {ep+1}\", flush=True)\n",
    "                break\n",
    "\n",
    "    return model"
   ]
  },
  {
   "cell_type": "code",
   "execution_count": 10,
   "metadata": {
    "execution": {
     "iopub.execute_input": "2025-06-12T10:59:38.628397Z",
     "iopub.status.busy": "2025-06-12T10:59:38.628145Z",
     "iopub.status.idle": "2025-06-12T11:52:23.070258Z",
     "shell.execute_reply": "2025-06-12T11:52:23.069329Z",
     "shell.execute_reply.started": "2025-06-12T10:59:38.628380Z"
    },
    "id": "5BgQxxrRE2BY",
    "outputId": "d10ce1b1-d4ea-4035-fe46-9b5fdf2dcaa0",
    "trusted": true
   },
   "outputs": [
    {
     "name": "stdout",
     "output_type": "stream",
     "text": [
      "Starting training...\n",
      "Training on 2500 words\n",
      "\n",
      "--- Epoch 1 | Reveal Ratio: 0.98 ---\n"
     ]
    },
    {
     "name": "stderr",
     "output_type": "stream",
     "text": [
      "Training:   0%|                                                             | 0/704 [00:00<?, ?it/s]"
     ]
    },
    {
     "name": "stdout",
     "output_type": "stream",
     "text": [
      "  Batch 0/704 | Loss: 3.2514\n"
     ]
    },
    {
     "name": "stderr",
     "output_type": "stream",
     "text": [
      "Training:   3%|█▍                                                  | 20/704 [00:10<05:44,  1.98it/s]"
     ]
    },
    {
     "name": "stdout",
     "output_type": "stream",
     "text": [
      "  Batch 20/704 | Loss: 2.9088\n"
     ]
    },
    {
     "name": "stderr",
     "output_type": "stream",
     "text": [
      "Training:   6%|██▉                                                 | 40/704 [00:20<05:32,  2.00it/s]"
     ]
    },
    {
     "name": "stdout",
     "output_type": "stream",
     "text": [
      "  Batch 40/704 | Loss: 2.6062\n"
     ]
    },
    {
     "name": "stderr",
     "output_type": "stream",
     "text": [
      "Training:   9%|████▍                                               | 60/704 [00:31<05:32,  1.93it/s]"
     ]
    },
    {
     "name": "stdout",
     "output_type": "stream",
     "text": [
      "  Batch 60/704 | Loss: 2.4197\n"
     ]
    },
    {
     "name": "stderr",
     "output_type": "stream",
     "text": [
      "Training:  11%|█████▉                                              | 80/704 [00:41<05:14,  1.98it/s]"
     ]
    },
    {
     "name": "stdout",
     "output_type": "stream",
     "text": [
      "  Batch 80/704 | Loss: 2.2797\n"
     ]
    },
    {
     "name": "stderr",
     "output_type": "stream",
     "text": [
      "Training:  14%|███████▏                                           | 100/704 [00:51<05:01,  2.00it/s]"
     ]
    },
    {
     "name": "stdout",
     "output_type": "stream",
     "text": [
      "  Batch 100/704 | Loss: 2.1516\n"
     ]
    },
    {
     "name": "stderr",
     "output_type": "stream",
     "text": [
      "Training:  17%|████████▋                                          | 120/704 [01:01<05:13,  1.86it/s]"
     ]
    },
    {
     "name": "stdout",
     "output_type": "stream",
     "text": [
      "  Batch 120/704 | Loss: 2.1777\n"
     ]
    },
    {
     "name": "stderr",
     "output_type": "stream",
     "text": [
      "Training:  20%|██████████▏                                        | 140/704 [01:11<04:41,  2.00it/s]"
     ]
    },
    {
     "name": "stdout",
     "output_type": "stream",
     "text": [
      "  Batch 140/704 | Loss: 2.1410\n"
     ]
    },
    {
     "name": "stderr",
     "output_type": "stream",
     "text": [
      "Training:  23%|███████████▌                                       | 160/704 [01:21<04:31,  2.01it/s]"
     ]
    },
    {
     "name": "stdout",
     "output_type": "stream",
     "text": [
      "  Batch 160/704 | Loss: 2.1675\n"
     ]
    },
    {
     "name": "stderr",
     "output_type": "stream",
     "text": [
      "Training:  26%|█████████████                                      | 180/704 [01:31<04:21,  2.01it/s]"
     ]
    },
    {
     "name": "stdout",
     "output_type": "stream",
     "text": [
      "  Batch 180/704 | Loss: 1.9065\n"
     ]
    },
    {
     "name": "stderr",
     "output_type": "stream",
     "text": [
      "Training:  28%|██████████████▍                                    | 200/704 [01:42<04:14,  1.98it/s]"
     ]
    },
    {
     "name": "stdout",
     "output_type": "stream",
     "text": [
      "  Batch 200/704 | Loss: 2.0256\n"
     ]
    },
    {
     "name": "stderr",
     "output_type": "stream",
     "text": [
      "Training:  31%|███████████████▉                                   | 220/704 [01:52<04:08,  1.95it/s]"
     ]
    },
    {
     "name": "stdout",
     "output_type": "stream",
     "text": [
      "  Batch 220/704 | Loss: 1.9956\n"
     ]
    },
    {
     "name": "stderr",
     "output_type": "stream",
     "text": [
      "Training:  34%|█████████████████▍                                 | 240/704 [02:02<03:52,  1.99it/s]"
     ]
    },
    {
     "name": "stdout",
     "output_type": "stream",
     "text": [
      "  Batch 240/704 | Loss: 1.9110\n"
     ]
    },
    {
     "name": "stderr",
     "output_type": "stream",
     "text": [
      "Training:  37%|██████████████████▊                                | 260/704 [02:12<03:46,  1.96it/s]"
     ]
    },
    {
     "name": "stdout",
     "output_type": "stream",
     "text": [
      "  Batch 260/704 | Loss: 1.8032\n"
     ]
    },
    {
     "name": "stderr",
     "output_type": "stream",
     "text": [
      "Training:  40%|████████████████████▎                              | 280/704 [02:23<03:39,  1.93it/s]"
     ]
    },
    {
     "name": "stdout",
     "output_type": "stream",
     "text": [
      "  Batch 280/704 | Loss: 1.7403\n"
     ]
    },
    {
     "name": "stderr",
     "output_type": "stream",
     "text": [
      "Training:  43%|█████████████████████▋                             | 300/704 [02:33<03:28,  1.94it/s]"
     ]
    },
    {
     "name": "stdout",
     "output_type": "stream",
     "text": [
      "  Batch 300/704 | Loss: 1.7711\n"
     ]
    },
    {
     "name": "stderr",
     "output_type": "stream",
     "text": [
      "Training:  45%|███████████████████████▏                           | 320/704 [02:43<03:13,  1.98it/s]"
     ]
    },
    {
     "name": "stdout",
     "output_type": "stream",
     "text": [
      "  Batch 320/704 | Loss: 1.6817\n"
     ]
    },
    {
     "name": "stderr",
     "output_type": "stream",
     "text": [
      "Training:  48%|████████████████████████▋                          | 340/704 [02:53<03:06,  1.95it/s]"
     ]
    },
    {
     "name": "stdout",
     "output_type": "stream",
     "text": [
      "  Batch 340/704 | Loss: 1.5825\n"
     ]
    },
    {
     "name": "stderr",
     "output_type": "stream",
     "text": [
      "Training:  51%|██████████████████████████                         | 360/704 [03:03<02:56,  1.95it/s]"
     ]
    },
    {
     "name": "stdout",
     "output_type": "stream",
     "text": [
      "  Batch 360/704 | Loss: 1.5419\n"
     ]
    },
    {
     "name": "stderr",
     "output_type": "stream",
     "text": [
      "Training:  54%|███████████████████████████▌                       | 380/704 [03:13<02:45,  1.96it/s]"
     ]
    },
    {
     "name": "stdout",
     "output_type": "stream",
     "text": [
      "  Batch 380/704 | Loss: 1.6906\n"
     ]
    },
    {
     "name": "stderr",
     "output_type": "stream",
     "text": [
      "Training:  57%|████████████████████████████▉                      | 400/704 [03:23<02:33,  1.98it/s]"
     ]
    },
    {
     "name": "stdout",
     "output_type": "stream",
     "text": [
      "  Batch 400/704 | Loss: 1.4796\n"
     ]
    },
    {
     "name": "stderr",
     "output_type": "stream",
     "text": [
      "Training:  60%|██████████████████████████████▍                    | 420/704 [03:34<02:22,  1.99it/s]"
     ]
    },
    {
     "name": "stdout",
     "output_type": "stream",
     "text": [
      "  Batch 420/704 | Loss: 1.5460\n"
     ]
    },
    {
     "name": "stderr",
     "output_type": "stream",
     "text": [
      "Training:  62%|███████████████████████████████▉                   | 440/704 [03:44<02:15,  1.94it/s]"
     ]
    },
    {
     "name": "stdout",
     "output_type": "stream",
     "text": [
      "  Batch 440/704 | Loss: 1.3524\n"
     ]
    },
    {
     "name": "stderr",
     "output_type": "stream",
     "text": [
      "Training:  65%|█████████████████████████████████▎                 | 460/704 [03:54<02:03,  1.97it/s]"
     ]
    },
    {
     "name": "stdout",
     "output_type": "stream",
     "text": [
      "  Batch 460/704 | Loss: 1.3433\n"
     ]
    },
    {
     "name": "stderr",
     "output_type": "stream",
     "text": [
      "Training:  68%|██████████████████████████████████▊                | 480/704 [04:04<01:52,  1.99it/s]"
     ]
    },
    {
     "name": "stdout",
     "output_type": "stream",
     "text": [
      "  Batch 480/704 | Loss: 1.1597\n"
     ]
    },
    {
     "name": "stderr",
     "output_type": "stream",
     "text": [
      "Training:  71%|████████████████████████████████████▏              | 500/704 [04:14<01:45,  1.93it/s]"
     ]
    },
    {
     "name": "stdout",
     "output_type": "stream",
     "text": [
      "  Batch 500/704 | Loss: 1.1037\n"
     ]
    },
    {
     "name": "stderr",
     "output_type": "stream",
     "text": [
      "Training:  74%|█████████████████████████████████████▋             | 520/704 [04:24<01:34,  1.96it/s]"
     ]
    },
    {
     "name": "stdout",
     "output_type": "stream",
     "text": [
      "  Batch 520/704 | Loss: 1.0683\n"
     ]
    },
    {
     "name": "stderr",
     "output_type": "stream",
     "text": [
      "Training:  77%|███████████████████████████████████████            | 540/704 [04:35<01:22,  1.98it/s]"
     ]
    },
    {
     "name": "stdout",
     "output_type": "stream",
     "text": [
      "  Batch 540/704 | Loss: 1.0249\n"
     ]
    },
    {
     "name": "stderr",
     "output_type": "stream",
     "text": [
      "Training:  80%|████████████████████████████████████████▌          | 560/704 [04:45<01:19,  1.82it/s]"
     ]
    },
    {
     "name": "stdout",
     "output_type": "stream",
     "text": [
      "  Batch 560/704 | Loss: 0.9228\n"
     ]
    },
    {
     "name": "stderr",
     "output_type": "stream",
     "text": [
      "Training:  82%|██████████████████████████████████████████         | 580/704 [04:55<01:02,  1.97it/s]"
     ]
    },
    {
     "name": "stdout",
     "output_type": "stream",
     "text": [
      "  Batch 580/704 | Loss: 0.7576\n"
     ]
    },
    {
     "name": "stderr",
     "output_type": "stream",
     "text": [
      "Training:  85%|███████████████████████████████████████████▍       | 600/704 [05:05<00:52,  1.99it/s]"
     ]
    },
    {
     "name": "stdout",
     "output_type": "stream",
     "text": [
      "  Batch 600/704 | Loss: 0.7784\n"
     ]
    },
    {
     "name": "stderr",
     "output_type": "stream",
     "text": [
      "Training:  88%|████████████████████████████████████████████▉      | 620/704 [05:15<00:44,  1.88it/s]"
     ]
    },
    {
     "name": "stdout",
     "output_type": "stream",
     "text": [
      "  Batch 620/704 | Loss: 0.7590\n"
     ]
    },
    {
     "name": "stderr",
     "output_type": "stream",
     "text": [
      "Training:  91%|██████████████████████████████████████████████▎    | 640/704 [05:26<00:32,  1.99it/s]"
     ]
    },
    {
     "name": "stdout",
     "output_type": "stream",
     "text": [
      "  Batch 640/704 | Loss: 0.7294\n"
     ]
    },
    {
     "name": "stderr",
     "output_type": "stream",
     "text": [
      "Training:  94%|███████████████████████████████████████████████▊   | 660/704 [05:36<00:22,  1.94it/s]"
     ]
    },
    {
     "name": "stdout",
     "output_type": "stream",
     "text": [
      "  Batch 660/704 | Loss: 0.6735\n"
     ]
    },
    {
     "name": "stderr",
     "output_type": "stream",
     "text": [
      "Training:  97%|█████████████████████████████████████████████████▎ | 680/704 [05:46<00:12,  1.95it/s]"
     ]
    },
    {
     "name": "stdout",
     "output_type": "stream",
     "text": [
      "  Batch 680/704 | Loss: 0.6116\n"
     ]
    },
    {
     "name": "stderr",
     "output_type": "stream",
     "text": [
      "Training:  99%|██████████████████████████████████████████████████▋| 700/704 [05:56<00:02,  1.99it/s]"
     ]
    },
    {
     "name": "stdout",
     "output_type": "stream",
     "text": [
      "  Batch 700/704 | Loss: 0.6158\n"
     ]
    },
    {
     "name": "stderr",
     "output_type": "stream",
     "text": [
      "Training: 100%|███████████████████████████████████████████████████| 704/704 [05:58<00:00,  1.96it/s]\n",
      "Validation: 100%|███████████████████████████████████████████████████| 79/79 [00:18<00:00,  4.26it/s]\n"
     ]
    },
    {
     "name": "stdout",
     "output_type": "stream",
     "text": [
      "✅ Model improved and saved.\n",
      "\n",
      "--- Epoch 2 | Reveal Ratio: 0.96 ---\n"
     ]
    },
    {
     "name": "stderr",
     "output_type": "stream",
     "text": [
      "Training:   0%|                                                             | 0/704 [00:00<?, ?it/s]"
     ]
    },
    {
     "name": "stdout",
     "output_type": "stream",
     "text": [
      "  Batch 0/704 | Loss: 0.5849\n"
     ]
    },
    {
     "name": "stderr",
     "output_type": "stream",
     "text": [
      "Training:   3%|█▍                                                  | 20/704 [00:10<05:40,  2.01it/s]"
     ]
    },
    {
     "name": "stdout",
     "output_type": "stream",
     "text": [
      "  Batch 20/704 | Loss: 0.6076\n"
     ]
    },
    {
     "name": "stderr",
     "output_type": "stream",
     "text": [
      "Training:   6%|██▉                                                 | 40/704 [00:20<05:34,  1.98it/s]"
     ]
    },
    {
     "name": "stdout",
     "output_type": "stream",
     "text": [
      "  Batch 40/704 | Loss: 0.5683\n"
     ]
    },
    {
     "name": "stderr",
     "output_type": "stream",
     "text": [
      "Training:   9%|████▍                                               | 60/704 [00:30<05:28,  1.96it/s]"
     ]
    },
    {
     "name": "stdout",
     "output_type": "stream",
     "text": [
      "  Batch 60/704 | Loss: 0.5488\n"
     ]
    },
    {
     "name": "stderr",
     "output_type": "stream",
     "text": [
      "Training:  11%|█████▉                                              | 80/704 [00:41<05:14,  1.98it/s]"
     ]
    },
    {
     "name": "stdout",
     "output_type": "stream",
     "text": [
      "  Batch 80/704 | Loss: 0.4544\n"
     ]
    },
    {
     "name": "stderr",
     "output_type": "stream",
     "text": [
      "Training:  14%|███████▏                                           | 100/704 [00:51<05:01,  2.00it/s]"
     ]
    },
    {
     "name": "stdout",
     "output_type": "stream",
     "text": [
      "  Batch 100/704 | Loss: 0.4233\n"
     ]
    },
    {
     "name": "stderr",
     "output_type": "stream",
     "text": [
      "Training:  17%|████████▋                                          | 120/704 [01:01<04:54,  1.98it/s]"
     ]
    },
    {
     "name": "stdout",
     "output_type": "stream",
     "text": [
      "  Batch 120/704 | Loss: 0.4121\n"
     ]
    },
    {
     "name": "stderr",
     "output_type": "stream",
     "text": [
      "Training:  20%|██████████▏                                        | 140/704 [01:11<04:44,  1.98it/s]"
     ]
    },
    {
     "name": "stdout",
     "output_type": "stream",
     "text": [
      "  Batch 140/704 | Loss: 0.4228\n"
     ]
    },
    {
     "name": "stderr",
     "output_type": "stream",
     "text": [
      "Training:  23%|███████████▌                                       | 160/704 [01:21<04:30,  2.01it/s]"
     ]
    },
    {
     "name": "stdout",
     "output_type": "stream",
     "text": [
      "  Batch 160/704 | Loss: 0.3599\n"
     ]
    },
    {
     "name": "stderr",
     "output_type": "stream",
     "text": [
      "Training:  26%|█████████████                                      | 180/704 [01:31<04:25,  1.97it/s]"
     ]
    },
    {
     "name": "stdout",
     "output_type": "stream",
     "text": [
      "  Batch 180/704 | Loss: 0.2982\n"
     ]
    },
    {
     "name": "stderr",
     "output_type": "stream",
     "text": [
      "Training:  28%|██████████████▍                                    | 200/704 [01:42<04:17,  1.96it/s]"
     ]
    },
    {
     "name": "stdout",
     "output_type": "stream",
     "text": [
      "  Batch 200/704 | Loss: 0.2981\n"
     ]
    },
    {
     "name": "stderr",
     "output_type": "stream",
     "text": [
      "Training:  31%|███████████████▉                                   | 220/704 [01:52<04:01,  2.01it/s]"
     ]
    },
    {
     "name": "stdout",
     "output_type": "stream",
     "text": [
      "  Batch 220/704 | Loss: 0.2834\n"
     ]
    },
    {
     "name": "stderr",
     "output_type": "stream",
     "text": [
      "Training:  34%|█████████████████▍                                 | 240/704 [02:02<03:54,  1.98it/s]"
     ]
    },
    {
     "name": "stdout",
     "output_type": "stream",
     "text": [
      "  Batch 240/704 | Loss: 0.3250\n"
     ]
    },
    {
     "name": "stderr",
     "output_type": "stream",
     "text": [
      "Training:  37%|██████████████████▊                                | 260/704 [02:12<03:52,  1.91it/s]"
     ]
    },
    {
     "name": "stdout",
     "output_type": "stream",
     "text": [
      "  Batch 260/704 | Loss: 0.1824\n"
     ]
    },
    {
     "name": "stderr",
     "output_type": "stream",
     "text": [
      "Training:  40%|████████████████████▎                              | 280/704 [02:22<03:31,  2.00it/s]"
     ]
    },
    {
     "name": "stdout",
     "output_type": "stream",
     "text": [
      "  Batch 280/704 | Loss: 0.2345\n"
     ]
    },
    {
     "name": "stderr",
     "output_type": "stream",
     "text": [
      "Training:  43%|█████████████████████▋                             | 300/704 [02:32<03:21,  2.00it/s]"
     ]
    },
    {
     "name": "stdout",
     "output_type": "stream",
     "text": [
      "  Batch 300/704 | Loss: 0.3053\n"
     ]
    },
    {
     "name": "stderr",
     "output_type": "stream",
     "text": [
      "Training:  45%|███████████████████████▏                           | 320/704 [02:43<03:29,  1.83it/s]"
     ]
    },
    {
     "name": "stdout",
     "output_type": "stream",
     "text": [
      "  Batch 320/704 | Loss: 0.1747\n"
     ]
    },
    {
     "name": "stderr",
     "output_type": "stream",
     "text": [
      "Training:  48%|████████████████████████▋                          | 340/704 [02:53<03:04,  1.97it/s]"
     ]
    },
    {
     "name": "stdout",
     "output_type": "stream",
     "text": [
      "  Batch 340/704 | Loss: 0.1926\n"
     ]
    },
    {
     "name": "stderr",
     "output_type": "stream",
     "text": [
      "Training:  51%|██████████████████████████                         | 360/704 [03:03<02:54,  1.97it/s]"
     ]
    },
    {
     "name": "stdout",
     "output_type": "stream",
     "text": [
      "  Batch 360/704 | Loss: 0.1849\n"
     ]
    },
    {
     "name": "stderr",
     "output_type": "stream",
     "text": [
      "Training:  54%|███████████████████████████▌                       | 380/704 [03:13<02:42,  1.99it/s]"
     ]
    },
    {
     "name": "stdout",
     "output_type": "stream",
     "text": [
      "  Batch 380/704 | Loss: 0.1623\n"
     ]
    },
    {
     "name": "stderr",
     "output_type": "stream",
     "text": [
      "Training:  57%|████████████████████████████▉                      | 400/704 [03:23<02:33,  1.99it/s]"
     ]
    },
    {
     "name": "stdout",
     "output_type": "stream",
     "text": [
      "  Batch 400/704 | Loss: 0.1782\n"
     ]
    },
    {
     "name": "stderr",
     "output_type": "stream",
     "text": [
      "Training:  60%|██████████████████████████████▍                    | 420/704 [03:33<02:22,  2.00it/s]"
     ]
    },
    {
     "name": "stdout",
     "output_type": "stream",
     "text": [
      "  Batch 420/704 | Loss: 0.1160\n"
     ]
    },
    {
     "name": "stderr",
     "output_type": "stream",
     "text": [
      "Training:  62%|███████████████████████████████▉                   | 440/704 [03:44<02:13,  1.98it/s]"
     ]
    },
    {
     "name": "stdout",
     "output_type": "stream",
     "text": [
      "  Batch 440/704 | Loss: 0.1763\n"
     ]
    },
    {
     "name": "stderr",
     "output_type": "stream",
     "text": [
      "Training:  65%|█████████████████████████████████▎                 | 460/704 [03:54<02:03,  1.98it/s]"
     ]
    },
    {
     "name": "stdout",
     "output_type": "stream",
     "text": [
      "  Batch 460/704 | Loss: 0.2224\n"
     ]
    },
    {
     "name": "stderr",
     "output_type": "stream",
     "text": [
      "Training:  68%|██████████████████████████████████▊                | 480/704 [04:04<01:51,  2.00it/s]"
     ]
    },
    {
     "name": "stdout",
     "output_type": "stream",
     "text": [
      "  Batch 480/704 | Loss: 0.1231\n"
     ]
    },
    {
     "name": "stderr",
     "output_type": "stream",
     "text": [
      "Training:  71%|████████████████████████████████████▏              | 500/704 [04:14<01:41,  2.00it/s]"
     ]
    },
    {
     "name": "stdout",
     "output_type": "stream",
     "text": [
      "  Batch 500/704 | Loss: 0.0732\n"
     ]
    },
    {
     "name": "stderr",
     "output_type": "stream",
     "text": [
      "Training:  74%|█████████████████████████████████████▋             | 520/704 [04:24<01:32,  1.98it/s]"
     ]
    },
    {
     "name": "stdout",
     "output_type": "stream",
     "text": [
      "  Batch 520/704 | Loss: 0.0805\n"
     ]
    },
    {
     "name": "stderr",
     "output_type": "stream",
     "text": [
      "Training:  77%|███████████████████████████████████████            | 540/704 [04:34<01:22,  2.00it/s]"
     ]
    },
    {
     "name": "stdout",
     "output_type": "stream",
     "text": [
      "  Batch 540/704 | Loss: 0.1154\n"
     ]
    },
    {
     "name": "stderr",
     "output_type": "stream",
     "text": [
      "Training:  80%|████████████████████████████████████████▌          | 560/704 [04:44<01:13,  1.97it/s]"
     ]
    },
    {
     "name": "stdout",
     "output_type": "stream",
     "text": [
      "  Batch 560/704 | Loss: 0.1830\n"
     ]
    },
    {
     "name": "stderr",
     "output_type": "stream",
     "text": [
      "Training:  82%|██████████████████████████████████████████         | 580/704 [04:55<01:04,  1.91it/s]"
     ]
    },
    {
     "name": "stdout",
     "output_type": "stream",
     "text": [
      "  Batch 580/704 | Loss: 0.1401\n"
     ]
    },
    {
     "name": "stderr",
     "output_type": "stream",
     "text": [
      "Training:  85%|███████████████████████████████████████████▍       | 600/704 [05:05<00:52,  1.96it/s]"
     ]
    },
    {
     "name": "stdout",
     "output_type": "stream",
     "text": [
      "  Batch 600/704 | Loss: 0.0919\n"
     ]
    },
    {
     "name": "stderr",
     "output_type": "stream",
     "text": [
      "Training:  88%|████████████████████████████████████████████▉      | 620/704 [05:15<00:42,  1.96it/s]"
     ]
    },
    {
     "name": "stdout",
     "output_type": "stream",
     "text": [
      "  Batch 620/704 | Loss: 0.0835\n"
     ]
    },
    {
     "name": "stderr",
     "output_type": "stream",
     "text": [
      "Training:  91%|██████████████████████████████████████████████▎    | 640/704 [05:25<00:33,  1.91it/s]"
     ]
    },
    {
     "name": "stdout",
     "output_type": "stream",
     "text": [
      "  Batch 640/704 | Loss: 0.1366\n"
     ]
    },
    {
     "name": "stderr",
     "output_type": "stream",
     "text": [
      "Training:  94%|███████████████████████████████████████████████▊   | 660/704 [05:36<00:22,  1.94it/s]"
     ]
    },
    {
     "name": "stdout",
     "output_type": "stream",
     "text": [
      "  Batch 660/704 | Loss: 0.1019\n"
     ]
    },
    {
     "name": "stderr",
     "output_type": "stream",
     "text": [
      "Training:  97%|█████████████████████████████████████████████████▎ | 680/704 [05:46<00:12,  1.97it/s]"
     ]
    },
    {
     "name": "stdout",
     "output_type": "stream",
     "text": [
      "  Batch 680/704 | Loss: 0.1733\n"
     ]
    },
    {
     "name": "stderr",
     "output_type": "stream",
     "text": [
      "Training:  99%|██████████████████████████████████████████████████▋| 700/704 [05:56<00:02,  1.90it/s]"
     ]
    },
    {
     "name": "stdout",
     "output_type": "stream",
     "text": [
      "  Batch 700/704 | Loss: 0.1443\n"
     ]
    },
    {
     "name": "stderr",
     "output_type": "stream",
     "text": [
      "Training: 100%|███████████████████████████████████████████████████| 704/704 [05:58<00:00,  1.97it/s]\n",
      "Validation: 100%|███████████████████████████████████████████████████| 79/79 [00:18<00:00,  4.29it/s]\n"
     ]
    },
    {
     "name": "stdout",
     "output_type": "stream",
     "text": [
      "✅ Model improved and saved.\n",
      "\n",
      "--- Epoch 3 | Reveal Ratio: 0.94 ---\n"
     ]
    },
    {
     "name": "stderr",
     "output_type": "stream",
     "text": [
      "Training:   0%|                                                             | 0/704 [00:00<?, ?it/s]"
     ]
    },
    {
     "name": "stdout",
     "output_type": "stream",
     "text": [
      "  Batch 0/704 | Loss: 0.0771\n"
     ]
    },
    {
     "name": "stderr",
     "output_type": "stream",
     "text": [
      "Training:   3%|█▍                                                  | 20/704 [00:10<06:19,  1.80it/s]"
     ]
    },
    {
     "name": "stdout",
     "output_type": "stream",
     "text": [
      "  Batch 20/704 | Loss: 0.0831\n"
     ]
    },
    {
     "name": "stderr",
     "output_type": "stream",
     "text": [
      "Training:   6%|██▉                                                 | 40/704 [00:20<05:35,  1.98it/s]"
     ]
    },
    {
     "name": "stdout",
     "output_type": "stream",
     "text": [
      "  Batch 40/704 | Loss: 0.1278\n"
     ]
    },
    {
     "name": "stderr",
     "output_type": "stream",
     "text": [
      "Training:   9%|████▍                                               | 60/704 [00:31<05:27,  1.97it/s]"
     ]
    },
    {
     "name": "stdout",
     "output_type": "stream",
     "text": [
      "  Batch 60/704 | Loss: 0.1268\n"
     ]
    },
    {
     "name": "stderr",
     "output_type": "stream",
     "text": [
      "Training:  11%|█████▉                                              | 80/704 [00:41<05:32,  1.88it/s]"
     ]
    },
    {
     "name": "stdout",
     "output_type": "stream",
     "text": [
      "  Batch 80/704 | Loss: 0.1069\n"
     ]
    },
    {
     "name": "stderr",
     "output_type": "stream",
     "text": [
      "Training:  14%|███████▏                                           | 100/704 [00:51<05:01,  2.00it/s]"
     ]
    },
    {
     "name": "stdout",
     "output_type": "stream",
     "text": [
      "  Batch 100/704 | Loss: 0.1737\n"
     ]
    },
    {
     "name": "stderr",
     "output_type": "stream",
     "text": [
      "Training:  17%|████████▋                                          | 120/704 [01:01<04:57,  1.97it/s]"
     ]
    },
    {
     "name": "stdout",
     "output_type": "stream",
     "text": [
      "  Batch 120/704 | Loss: 0.0821\n"
     ]
    },
    {
     "name": "stderr",
     "output_type": "stream",
     "text": [
      "Training:  20%|██████████▏                                        | 140/704 [01:11<04:49,  1.95it/s]"
     ]
    },
    {
     "name": "stdout",
     "output_type": "stream",
     "text": [
      "  Batch 140/704 | Loss: 0.1034\n"
     ]
    },
    {
     "name": "stderr",
     "output_type": "stream",
     "text": [
      "Training:  23%|███████████▌                                       | 160/704 [01:22<04:37,  1.96it/s]"
     ]
    },
    {
     "name": "stdout",
     "output_type": "stream",
     "text": [
      "  Batch 160/704 | Loss: 0.0856\n"
     ]
    },
    {
     "name": "stderr",
     "output_type": "stream",
     "text": [
      "Training:  26%|█████████████                                      | 180/704 [01:32<04:25,  1.97it/s]"
     ]
    },
    {
     "name": "stdout",
     "output_type": "stream",
     "text": [
      "  Batch 180/704 | Loss: 0.0717\n"
     ]
    },
    {
     "name": "stderr",
     "output_type": "stream",
     "text": [
      "Training:  28%|██████████████▍                                    | 200/704 [01:42<04:11,  2.00it/s]"
     ]
    },
    {
     "name": "stdout",
     "output_type": "stream",
     "text": [
      "  Batch 200/704 | Loss: 0.0975\n"
     ]
    },
    {
     "name": "stderr",
     "output_type": "stream",
     "text": [
      "Training:  31%|███████████████▉                                   | 220/704 [01:52<04:05,  1.97it/s]"
     ]
    },
    {
     "name": "stdout",
     "output_type": "stream",
     "text": [
      "  Batch 220/704 | Loss: 0.1071\n"
     ]
    },
    {
     "name": "stderr",
     "output_type": "stream",
     "text": [
      "Training:  34%|█████████████████▍                                 | 240/704 [02:02<03:53,  1.99it/s]"
     ]
    },
    {
     "name": "stdout",
     "output_type": "stream",
     "text": [
      "  Batch 240/704 | Loss: 0.0612\n"
     ]
    },
    {
     "name": "stderr",
     "output_type": "stream",
     "text": [
      "Training:  37%|██████████████████▊                                | 260/704 [02:12<03:45,  1.97it/s]"
     ]
    },
    {
     "name": "stdout",
     "output_type": "stream",
     "text": [
      "  Batch 260/704 | Loss: 0.1068\n"
     ]
    },
    {
     "name": "stderr",
     "output_type": "stream",
     "text": [
      "Training:  40%|████████████████████▎                              | 280/704 [02:23<03:44,  1.89it/s]"
     ]
    },
    {
     "name": "stdout",
     "output_type": "stream",
     "text": [
      "  Batch 280/704 | Loss: 0.0655\n"
     ]
    },
    {
     "name": "stderr",
     "output_type": "stream",
     "text": [
      "Training:  43%|█████████████████████▋                             | 300/704 [02:33<03:23,  1.98it/s]"
     ]
    },
    {
     "name": "stdout",
     "output_type": "stream",
     "text": [
      "  Batch 300/704 | Loss: 0.1034\n"
     ]
    },
    {
     "name": "stderr",
     "output_type": "stream",
     "text": [
      "Training:  45%|███████████████████████▏                           | 320/704 [02:43<03:14,  1.97it/s]"
     ]
    },
    {
     "name": "stdout",
     "output_type": "stream",
     "text": [
      "  Batch 320/704 | Loss: 0.1533\n"
     ]
    },
    {
     "name": "stderr",
     "output_type": "stream",
     "text": [
      "Training:  48%|████████████████████████▋                          | 340/704 [02:54<03:02,  1.99it/s]"
     ]
    },
    {
     "name": "stdout",
     "output_type": "stream",
     "text": [
      "  Batch 340/704 | Loss: 0.0766\n"
     ]
    },
    {
     "name": "stderr",
     "output_type": "stream",
     "text": [
      "Training:  51%|██████████████████████████                         | 360/704 [03:04<02:53,  1.98it/s]"
     ]
    },
    {
     "name": "stdout",
     "output_type": "stream",
     "text": [
      "  Batch 360/704 | Loss: 0.0592\n"
     ]
    },
    {
     "name": "stderr",
     "output_type": "stream",
     "text": [
      "Training:  54%|███████████████████████████▌                       | 380/704 [03:14<02:45,  1.96it/s]"
     ]
    },
    {
     "name": "stdout",
     "output_type": "stream",
     "text": [
      "  Batch 380/704 | Loss: 0.0582\n"
     ]
    },
    {
     "name": "stderr",
     "output_type": "stream",
     "text": [
      "Training:  57%|████████████████████████████▉                      | 400/704 [03:24<02:34,  1.96it/s]"
     ]
    },
    {
     "name": "stdout",
     "output_type": "stream",
     "text": [
      "  Batch 400/704 | Loss: 0.0856\n"
     ]
    },
    {
     "name": "stderr",
     "output_type": "stream",
     "text": [
      "Training:  60%|██████████████████████████████▍                    | 420/704 [03:34<02:24,  1.97it/s]"
     ]
    },
    {
     "name": "stdout",
     "output_type": "stream",
     "text": [
      "  Batch 420/704 | Loss: 0.0828\n"
     ]
    },
    {
     "name": "stderr",
     "output_type": "stream",
     "text": [
      "Training:  62%|███████████████████████████████▉                   | 440/704 [03:44<02:13,  1.98it/s]"
     ]
    },
    {
     "name": "stdout",
     "output_type": "stream",
     "text": [
      "  Batch 440/704 | Loss: 0.0484\n"
     ]
    },
    {
     "name": "stderr",
     "output_type": "stream",
     "text": [
      "Training:  65%|█████████████████████████████████▎                 | 460/704 [03:55<02:10,  1.87it/s]"
     ]
    },
    {
     "name": "stdout",
     "output_type": "stream",
     "text": [
      "  Batch 460/704 | Loss: 0.0902\n"
     ]
    },
    {
     "name": "stderr",
     "output_type": "stream",
     "text": [
      "Training:  68%|██████████████████████████████████▊                | 480/704 [04:05<01:53,  1.97it/s]"
     ]
    },
    {
     "name": "stdout",
     "output_type": "stream",
     "text": [
      "  Batch 480/704 | Loss: 0.1363\n"
     ]
    },
    {
     "name": "stderr",
     "output_type": "stream",
     "text": [
      "Training:  71%|████████████████████████████████████▏              | 500/704 [04:15<01:41,  2.00it/s]"
     ]
    },
    {
     "name": "stdout",
     "output_type": "stream",
     "text": [
      "  Batch 500/704 | Loss: 0.0699\n"
     ]
    },
    {
     "name": "stderr",
     "output_type": "stream",
     "text": [
      "Training:  74%|█████████████████████████████████████▋             | 520/704 [04:25<01:42,  1.79it/s]"
     ]
    },
    {
     "name": "stdout",
     "output_type": "stream",
     "text": [
      "  Batch 520/704 | Loss: 0.0763\n"
     ]
    },
    {
     "name": "stderr",
     "output_type": "stream",
     "text": [
      "Training:  77%|███████████████████████████████████████            | 540/704 [04:36<01:23,  1.97it/s]"
     ]
    },
    {
     "name": "stdout",
     "output_type": "stream",
     "text": [
      "  Batch 540/704 | Loss: 0.1652\n"
     ]
    },
    {
     "name": "stderr",
     "output_type": "stream",
     "text": [
      "Training:  80%|████████████████████████████████████████▌          | 560/704 [04:46<01:13,  1.96it/s]"
     ]
    },
    {
     "name": "stdout",
     "output_type": "stream",
     "text": [
      "  Batch 560/704 | Loss: 0.0783\n"
     ]
    },
    {
     "name": "stderr",
     "output_type": "stream",
     "text": [
      "Training:  82%|██████████████████████████████████████████         | 580/704 [04:56<01:03,  1.94it/s]"
     ]
    },
    {
     "name": "stdout",
     "output_type": "stream",
     "text": [
      "  Batch 580/704 | Loss: 0.1058\n"
     ]
    },
    {
     "name": "stderr",
     "output_type": "stream",
     "text": [
      "Training:  85%|███████████████████████████████████████████▍       | 600/704 [05:06<00:52,  1.99it/s]"
     ]
    },
    {
     "name": "stdout",
     "output_type": "stream",
     "text": [
      "  Batch 600/704 | Loss: 0.0780\n"
     ]
    },
    {
     "name": "stderr",
     "output_type": "stream",
     "text": [
      "Training:  88%|████████████████████████████████████████████▉      | 620/704 [05:17<00:42,  1.98it/s]"
     ]
    },
    {
     "name": "stdout",
     "output_type": "stream",
     "text": [
      "  Batch 620/704 | Loss: 0.0908\n"
     ]
    },
    {
     "name": "stderr",
     "output_type": "stream",
     "text": [
      "Training:  91%|██████████████████████████████████████████████▎    | 640/704 [05:27<00:32,  1.97it/s]"
     ]
    },
    {
     "name": "stdout",
     "output_type": "stream",
     "text": [
      "  Batch 640/704 | Loss: 0.0976\n"
     ]
    },
    {
     "name": "stderr",
     "output_type": "stream",
     "text": [
      "Training:  94%|███████████████████████████████████████████████▊   | 660/704 [05:37<00:22,  1.97it/s]"
     ]
    },
    {
     "name": "stdout",
     "output_type": "stream",
     "text": [
      "  Batch 660/704 | Loss: 0.0767\n"
     ]
    },
    {
     "name": "stderr",
     "output_type": "stream",
     "text": [
      "Training:  97%|█████████████████████████████████████████████████▎ | 680/704 [05:47<00:12,  1.98it/s]"
     ]
    },
    {
     "name": "stdout",
     "output_type": "stream",
     "text": [
      "  Batch 680/704 | Loss: 0.0908\n"
     ]
    },
    {
     "name": "stderr",
     "output_type": "stream",
     "text": [
      "Training:  99%|██████████████████████████████████████████████████▋| 700/704 [05:57<00:01,  2.01it/s]"
     ]
    },
    {
     "name": "stdout",
     "output_type": "stream",
     "text": [
      "  Batch 700/704 | Loss: 0.0642\n"
     ]
    },
    {
     "name": "stderr",
     "output_type": "stream",
     "text": [
      "Training: 100%|███████████████████████████████████████████████████| 704/704 [05:59<00:00,  1.96it/s]\n",
      "Validation: 100%|███████████████████████████████████████████████████| 79/79 [00:18<00:00,  4.24it/s]\n"
     ]
    },
    {
     "name": "stdout",
     "output_type": "stream",
     "text": [
      "✅ Model improved and saved.\n",
      "\n",
      "--- Epoch 4 | Reveal Ratio: 0.92 ---\n"
     ]
    },
    {
     "name": "stderr",
     "output_type": "stream",
     "text": [
      "Training:   0%|                                                             | 0/704 [00:00<?, ?it/s]"
     ]
    },
    {
     "name": "stdout",
     "output_type": "stream",
     "text": [
      "  Batch 0/704 | Loss: 0.3173\n"
     ]
    },
    {
     "name": "stderr",
     "output_type": "stream",
     "text": [
      "Training:   3%|█▍                                                  | 20/704 [00:10<06:00,  1.90it/s]"
     ]
    },
    {
     "name": "stdout",
     "output_type": "stream",
     "text": [
      "  Batch 20/704 | Loss: 0.3826\n"
     ]
    },
    {
     "name": "stderr",
     "output_type": "stream",
     "text": [
      "Training:   6%|██▉                                                 | 40/704 [00:21<05:44,  1.93it/s]"
     ]
    },
    {
     "name": "stdout",
     "output_type": "stream",
     "text": [
      "  Batch 40/704 | Loss: 0.3105\n"
     ]
    },
    {
     "name": "stderr",
     "output_type": "stream",
     "text": [
      "Training:   9%|████▍                                               | 60/704 [00:31<05:37,  1.91it/s]"
     ]
    },
    {
     "name": "stdout",
     "output_type": "stream",
     "text": [
      "  Batch 60/704 | Loss: 0.2807\n"
     ]
    },
    {
     "name": "stderr",
     "output_type": "stream",
     "text": [
      "Training:  11%|█████▉                                              | 80/704 [00:41<05:24,  1.92it/s]"
     ]
    },
    {
     "name": "stdout",
     "output_type": "stream",
     "text": [
      "  Batch 80/704 | Loss: 0.1805\n"
     ]
    },
    {
     "name": "stderr",
     "output_type": "stream",
     "text": [
      "Training:  14%|███████▏                                           | 100/704 [00:52<05:12,  1.93it/s]"
     ]
    },
    {
     "name": "stdout",
     "output_type": "stream",
     "text": [
      "  Batch 100/704 | Loss: 0.3670\n"
     ]
    },
    {
     "name": "stderr",
     "output_type": "stream",
     "text": [
      "Training:  17%|████████▋                                          | 120/704 [01:02<04:55,  1.97it/s]"
     ]
    },
    {
     "name": "stdout",
     "output_type": "stream",
     "text": [
      "  Batch 120/704 | Loss: 0.0993\n"
     ]
    },
    {
     "name": "stderr",
     "output_type": "stream",
     "text": [
      "Training:  20%|██████████▏                                        | 140/704 [01:12<04:48,  1.96it/s]"
     ]
    },
    {
     "name": "stdout",
     "output_type": "stream",
     "text": [
      "  Batch 140/704 | Loss: 0.1570\n"
     ]
    },
    {
     "name": "stderr",
     "output_type": "stream",
     "text": [
      "Training:  23%|███████████▌                                       | 160/704 [01:23<04:45,  1.91it/s]"
     ]
    },
    {
     "name": "stdout",
     "output_type": "stream",
     "text": [
      "  Batch 160/704 | Loss: 0.2589\n"
     ]
    },
    {
     "name": "stderr",
     "output_type": "stream",
     "text": [
      "Training:  26%|█████████████                                      | 180/704 [01:33<04:28,  1.95it/s]"
     ]
    },
    {
     "name": "stdout",
     "output_type": "stream",
     "text": [
      "  Batch 180/704 | Loss: 0.2289\n"
     ]
    },
    {
     "name": "stderr",
     "output_type": "stream",
     "text": [
      "Training:  28%|██████████████▍                                    | 200/704 [01:43<04:17,  1.96it/s]"
     ]
    },
    {
     "name": "stdout",
     "output_type": "stream",
     "text": [
      "  Batch 200/704 | Loss: 0.1530\n"
     ]
    },
    {
     "name": "stderr",
     "output_type": "stream",
     "text": [
      "Training:  31%|███████████████▉                                   | 220/704 [01:54<04:12,  1.91it/s]"
     ]
    },
    {
     "name": "stdout",
     "output_type": "stream",
     "text": [
      "  Batch 220/704 | Loss: 0.1832\n"
     ]
    },
    {
     "name": "stderr",
     "output_type": "stream",
     "text": [
      "Training:  34%|█████████████████▍                                 | 240/704 [02:04<04:00,  1.93it/s]"
     ]
    },
    {
     "name": "stdout",
     "output_type": "stream",
     "text": [
      "  Batch 240/704 | Loss: 0.1765\n"
     ]
    },
    {
     "name": "stderr",
     "output_type": "stream",
     "text": [
      "Training:  37%|██████████████████▊                                | 260/704 [02:15<03:49,  1.94it/s]"
     ]
    },
    {
     "name": "stdout",
     "output_type": "stream",
     "text": [
      "  Batch 260/704 | Loss: 0.1348\n"
     ]
    },
    {
     "name": "stderr",
     "output_type": "stream",
     "text": [
      "Training:  40%|████████████████████▎                              | 280/704 [02:25<03:39,  1.93it/s]"
     ]
    },
    {
     "name": "stdout",
     "output_type": "stream",
     "text": [
      "  Batch 280/704 | Loss: 0.1909\n"
     ]
    },
    {
     "name": "stderr",
     "output_type": "stream",
     "text": [
      "Training:  43%|█████████████████████▋                             | 300/704 [02:35<03:28,  1.94it/s]"
     ]
    },
    {
     "name": "stdout",
     "output_type": "stream",
     "text": [
      "  Batch 300/704 | Loss: 0.1742\n"
     ]
    },
    {
     "name": "stderr",
     "output_type": "stream",
     "text": [
      "Training:  45%|███████████████████████▏                           | 320/704 [02:46<03:16,  1.96it/s]"
     ]
    },
    {
     "name": "stdout",
     "output_type": "stream",
     "text": [
      "  Batch 320/704 | Loss: 0.1308\n"
     ]
    },
    {
     "name": "stderr",
     "output_type": "stream",
     "text": [
      "Training:  48%|████████████████████████▋                          | 340/704 [02:56<03:12,  1.89it/s]"
     ]
    },
    {
     "name": "stdout",
     "output_type": "stream",
     "text": [
      "  Batch 340/704 | Loss: 0.1075\n"
     ]
    },
    {
     "name": "stderr",
     "output_type": "stream",
     "text": [
      "Training:  51%|██████████████████████████                         | 360/704 [03:06<02:55,  1.96it/s]"
     ]
    },
    {
     "name": "stdout",
     "output_type": "stream",
     "text": [
      "  Batch 360/704 | Loss: 0.1363\n"
     ]
    },
    {
     "name": "stderr",
     "output_type": "stream",
     "text": [
      "Training:  54%|███████████████████████████▌                       | 380/704 [03:17<02:56,  1.84it/s]"
     ]
    },
    {
     "name": "stdout",
     "output_type": "stream",
     "text": [
      "  Batch 380/704 | Loss: 0.0865\n"
     ]
    },
    {
     "name": "stderr",
     "output_type": "stream",
     "text": [
      "Training:  57%|████████████████████████████▉                      | 400/704 [03:28<02:46,  1.83it/s]"
     ]
    },
    {
     "name": "stdout",
     "output_type": "stream",
     "text": [
      "  Batch 400/704 | Loss: 0.1125\n"
     ]
    },
    {
     "name": "stderr",
     "output_type": "stream",
     "text": [
      "Training:  60%|██████████████████████████████▍                    | 420/704 [03:38<02:24,  1.96it/s]"
     ]
    },
    {
     "name": "stdout",
     "output_type": "stream",
     "text": [
      "  Batch 420/704 | Loss: 0.0858\n"
     ]
    },
    {
     "name": "stderr",
     "output_type": "stream",
     "text": [
      "Training:  62%|███████████████████████████████▉                   | 440/704 [03:48<02:18,  1.91it/s]"
     ]
    },
    {
     "name": "stdout",
     "output_type": "stream",
     "text": [
      "  Batch 440/704 | Loss: 0.1350\n"
     ]
    },
    {
     "name": "stderr",
     "output_type": "stream",
     "text": [
      "Training:  65%|█████████████████████████████████▎                 | 460/704 [03:59<02:14,  1.82it/s]"
     ]
    },
    {
     "name": "stdout",
     "output_type": "stream",
     "text": [
      "  Batch 460/704 | Loss: 0.1451\n"
     ]
    },
    {
     "name": "stderr",
     "output_type": "stream",
     "text": [
      "Training:  68%|██████████████████████████████████▊                | 480/704 [04:09<01:58,  1.89it/s]"
     ]
    },
    {
     "name": "stdout",
     "output_type": "stream",
     "text": [
      "  Batch 480/704 | Loss: 0.1574\n"
     ]
    },
    {
     "name": "stderr",
     "output_type": "stream",
     "text": [
      "Training:  71%|████████████████████████████████████▏              | 500/704 [04:20<01:48,  1.89it/s]"
     ]
    },
    {
     "name": "stdout",
     "output_type": "stream",
     "text": [
      "  Batch 500/704 | Loss: 0.0976\n"
     ]
    },
    {
     "name": "stderr",
     "output_type": "stream",
     "text": [
      "Training:  74%|█████████████████████████████████████▋             | 520/704 [04:30<01:42,  1.80it/s]"
     ]
    },
    {
     "name": "stdout",
     "output_type": "stream",
     "text": [
      "  Batch 520/704 | Loss: 0.1243\n"
     ]
    },
    {
     "name": "stderr",
     "output_type": "stream",
     "text": [
      "Training:  77%|███████████████████████████████████████            | 540/704 [04:40<01:24,  1.94it/s]"
     ]
    },
    {
     "name": "stdout",
     "output_type": "stream",
     "text": [
      "  Batch 540/704 | Loss: 0.1652\n"
     ]
    },
    {
     "name": "stderr",
     "output_type": "stream",
     "text": [
      "Training:  80%|████████████████████████████████████████▌          | 560/704 [04:51<01:13,  1.95it/s]"
     ]
    },
    {
     "name": "stdout",
     "output_type": "stream",
     "text": [
      "  Batch 560/704 | Loss: 0.0781\n"
     ]
    },
    {
     "name": "stderr",
     "output_type": "stream",
     "text": [
      "Training:  82%|██████████████████████████████████████████         | 580/704 [05:01<01:05,  1.89it/s]"
     ]
    },
    {
     "name": "stdout",
     "output_type": "stream",
     "text": [
      "  Batch 580/704 | Loss: 0.2511\n"
     ]
    },
    {
     "name": "stderr",
     "output_type": "stream",
     "text": [
      "Training:  85%|███████████████████████████████████████████▍       | 600/704 [05:12<00:53,  1.95it/s]"
     ]
    },
    {
     "name": "stdout",
     "output_type": "stream",
     "text": [
      "  Batch 600/704 | Loss: 0.1360\n"
     ]
    },
    {
     "name": "stderr",
     "output_type": "stream",
     "text": [
      "Training:  88%|████████████████████████████████████████████▉      | 620/704 [05:22<00:43,  1.94it/s]"
     ]
    },
    {
     "name": "stdout",
     "output_type": "stream",
     "text": [
      "  Batch 620/704 | Loss: 0.1426\n"
     ]
    },
    {
     "name": "stderr",
     "output_type": "stream",
     "text": [
      "Training:  91%|██████████████████████████████████████████████▎    | 640/704 [05:33<00:33,  1.92it/s]"
     ]
    },
    {
     "name": "stdout",
     "output_type": "stream",
     "text": [
      "  Batch 640/704 | Loss: 0.1348\n"
     ]
    },
    {
     "name": "stderr",
     "output_type": "stream",
     "text": [
      "Training:  94%|███████████████████████████████████████████████▊   | 660/704 [05:43<00:22,  1.94it/s]"
     ]
    },
    {
     "name": "stdout",
     "output_type": "stream",
     "text": [
      "  Batch 660/704 | Loss: 0.1451\n"
     ]
    },
    {
     "name": "stderr",
     "output_type": "stream",
     "text": [
      "Training:  97%|█████████████████████████████████████████████████▎ | 680/704 [05:53<00:12,  1.93it/s]"
     ]
    },
    {
     "name": "stdout",
     "output_type": "stream",
     "text": [
      "  Batch 680/704 | Loss: 0.0976\n"
     ]
    },
    {
     "name": "stderr",
     "output_type": "stream",
     "text": [
      "Training:  99%|██████████████████████████████████████████████████▋| 700/704 [06:04<00:02,  1.94it/s]"
     ]
    },
    {
     "name": "stdout",
     "output_type": "stream",
     "text": [
      "  Batch 700/704 | Loss: 0.1388\n"
     ]
    },
    {
     "name": "stderr",
     "output_type": "stream",
     "text": [
      "Training: 100%|███████████████████████████████████████████████████| 704/704 [06:06<00:00,  1.92it/s]\n",
      "Validation: 100%|███████████████████████████████████████████████████| 79/79 [00:18<00:00,  4.17it/s]"
     ]
    },
    {
     "name": "stdout",
     "output_type": "stream",
     "text": [
      "⚠️ No improvement. Patience: 1/5\n"
     ]
    },
    {
     "name": "stderr",
     "output_type": "stream",
     "text": [
      "\n"
     ]
    },
    {
     "name": "stdout",
     "output_type": "stream",
     "text": [
      "\n",
      "--- Epoch 5 | Reveal Ratio: 0.90 ---\n"
     ]
    },
    {
     "name": "stderr",
     "output_type": "stream",
     "text": [
      "Training:   0%|                                                             | 0/704 [00:00<?, ?it/s]"
     ]
    },
    {
     "name": "stdout",
     "output_type": "stream",
     "text": [
      "  Batch 0/704 | Loss: 0.3024\n"
     ]
    },
    {
     "name": "stderr",
     "output_type": "stream",
     "text": [
      "Training:   3%|█▍                                                  | 20/704 [00:10<06:08,  1.86it/s]"
     ]
    },
    {
     "name": "stdout",
     "output_type": "stream",
     "text": [
      "  Batch 20/704 | Loss: 0.3434\n"
     ]
    },
    {
     "name": "stderr",
     "output_type": "stream",
     "text": [
      "Training:   6%|██▉                                                 | 40/704 [00:21<05:51,  1.89it/s]"
     ]
    },
    {
     "name": "stdout",
     "output_type": "stream",
     "text": [
      "  Batch 40/704 | Loss: 0.3461\n"
     ]
    },
    {
     "name": "stderr",
     "output_type": "stream",
     "text": [
      "Training:   9%|████▍                                               | 60/704 [00:32<05:43,  1.87it/s]"
     ]
    },
    {
     "name": "stdout",
     "output_type": "stream",
     "text": [
      "  Batch 60/704 | Loss: 0.2532\n"
     ]
    },
    {
     "name": "stderr",
     "output_type": "stream",
     "text": [
      "Training:  11%|█████▉                                              | 80/704 [00:43<05:34,  1.87it/s]"
     ]
    },
    {
     "name": "stdout",
     "output_type": "stream",
     "text": [
      "  Batch 80/704 | Loss: 0.2585\n"
     ]
    },
    {
     "name": "stderr",
     "output_type": "stream",
     "text": [
      "Training:  14%|███████▏                                           | 100/704 [00:53<05:17,  1.90it/s]"
     ]
    },
    {
     "name": "stdout",
     "output_type": "stream",
     "text": [
      "  Batch 100/704 | Loss: 0.2077\n"
     ]
    },
    {
     "name": "stderr",
     "output_type": "stream",
     "text": [
      "Training:  17%|████████▋                                          | 120/704 [01:04<05:11,  1.88it/s]"
     ]
    },
    {
     "name": "stdout",
     "output_type": "stream",
     "text": [
      "  Batch 120/704 | Loss: 0.2365\n"
     ]
    },
    {
     "name": "stderr",
     "output_type": "stream",
     "text": [
      "Training:  20%|██████████▏                                        | 140/704 [01:15<04:57,  1.89it/s]"
     ]
    },
    {
     "name": "stdout",
     "output_type": "stream",
     "text": [
      "  Batch 140/704 | Loss: 0.3026\n"
     ]
    },
    {
     "name": "stderr",
     "output_type": "stream",
     "text": [
      "Training:  23%|███████████▌                                       | 160/704 [01:25<04:48,  1.89it/s]"
     ]
    },
    {
     "name": "stdout",
     "output_type": "stream",
     "text": [
      "  Batch 160/704 | Loss: 0.1876\n"
     ]
    },
    {
     "name": "stderr",
     "output_type": "stream",
     "text": [
      "Training:  26%|█████████████                                      | 180/704 [01:36<04:38,  1.88it/s]"
     ]
    },
    {
     "name": "stdout",
     "output_type": "stream",
     "text": [
      "  Batch 180/704 | Loss: 0.2056\n"
     ]
    },
    {
     "name": "stderr",
     "output_type": "stream",
     "text": [
      "Training:  28%|██████████████▍                                    | 200/704 [01:47<04:25,  1.90it/s]"
     ]
    },
    {
     "name": "stdout",
     "output_type": "stream",
     "text": [
      "  Batch 200/704 | Loss: 0.1692\n"
     ]
    },
    {
     "name": "stderr",
     "output_type": "stream",
     "text": [
      "Training:  31%|███████████████▉                                   | 220/704 [01:57<04:18,  1.87it/s]"
     ]
    },
    {
     "name": "stdout",
     "output_type": "stream",
     "text": [
      "  Batch 220/704 | Loss: 0.2706\n"
     ]
    },
    {
     "name": "stderr",
     "output_type": "stream",
     "text": [
      "Training:  34%|█████████████████▍                                 | 240/704 [02:08<04:11,  1.85it/s]"
     ]
    },
    {
     "name": "stdout",
     "output_type": "stream",
     "text": [
      "  Batch 240/704 | Loss: 0.1833\n"
     ]
    },
    {
     "name": "stderr",
     "output_type": "stream",
     "text": [
      "Training:  37%|██████████████████▊                                | 260/704 [02:19<03:54,  1.89it/s]"
     ]
    },
    {
     "name": "stdout",
     "output_type": "stream",
     "text": [
      "  Batch 260/704 | Loss: 0.1658\n"
     ]
    },
    {
     "name": "stderr",
     "output_type": "stream",
     "text": [
      "Training:  40%|████████████████████▎                              | 280/704 [02:30<03:43,  1.89it/s]"
     ]
    },
    {
     "name": "stdout",
     "output_type": "stream",
     "text": [
      "  Batch 280/704 | Loss: 0.1924\n"
     ]
    },
    {
     "name": "stderr",
     "output_type": "stream",
     "text": [
      "Training:  43%|█████████████████████▋                             | 300/704 [02:40<03:33,  1.89it/s]"
     ]
    },
    {
     "name": "stdout",
     "output_type": "stream",
     "text": [
      "  Batch 300/704 | Loss: 0.2147\n"
     ]
    },
    {
     "name": "stderr",
     "output_type": "stream",
     "text": [
      "Training:  45%|███████████████████████▏                           | 320/704 [02:51<03:23,  1.89it/s]"
     ]
    },
    {
     "name": "stdout",
     "output_type": "stream",
     "text": [
      "  Batch 320/704 | Loss: 0.1820\n"
     ]
    },
    {
     "name": "stderr",
     "output_type": "stream",
     "text": [
      "Training:  48%|████████████████████████▋                          | 340/704 [03:01<03:11,  1.91it/s]"
     ]
    },
    {
     "name": "stdout",
     "output_type": "stream",
     "text": [
      "  Batch 340/704 | Loss: 0.1195\n"
     ]
    },
    {
     "name": "stderr",
     "output_type": "stream",
     "text": [
      "Training:  51%|██████████████████████████                         | 360/704 [03:12<03:04,  1.87it/s]"
     ]
    },
    {
     "name": "stdout",
     "output_type": "stream",
     "text": [
      "  Batch 360/704 | Loss: 0.1466\n"
     ]
    },
    {
     "name": "stderr",
     "output_type": "stream",
     "text": [
      "Training:  54%|███████████████████████████▌                       | 380/704 [03:23<02:48,  1.92it/s]"
     ]
    },
    {
     "name": "stdout",
     "output_type": "stream",
     "text": [
      "  Batch 380/704 | Loss: 0.1946\n"
     ]
    },
    {
     "name": "stderr",
     "output_type": "stream",
     "text": [
      "Training:  57%|████████████████████████████▉                      | 400/704 [03:33<02:42,  1.87it/s]"
     ]
    },
    {
     "name": "stdout",
     "output_type": "stream",
     "text": [
      "  Batch 400/704 | Loss: 0.2319\n"
     ]
    },
    {
     "name": "stderr",
     "output_type": "stream",
     "text": [
      "Training:  60%|██████████████████████████████▍                    | 420/704 [03:44<02:31,  1.87it/s]"
     ]
    },
    {
     "name": "stdout",
     "output_type": "stream",
     "text": [
      "  Batch 420/704 | Loss: 0.1523\n"
     ]
    },
    {
     "name": "stderr",
     "output_type": "stream",
     "text": [
      "Training:  62%|███████████████████████████████▉                   | 440/704 [03:55<02:19,  1.89it/s]"
     ]
    },
    {
     "name": "stdout",
     "output_type": "stream",
     "text": [
      "  Batch 440/704 | Loss: 0.1622\n"
     ]
    },
    {
     "name": "stderr",
     "output_type": "stream",
     "text": [
      "Training:  65%|█████████████████████████████████▎                 | 460/704 [04:05<02:08,  1.90it/s]"
     ]
    },
    {
     "name": "stdout",
     "output_type": "stream",
     "text": [
      "  Batch 460/704 | Loss: 0.1149\n"
     ]
    },
    {
     "name": "stderr",
     "output_type": "stream",
     "text": [
      "Training:  68%|██████████████████████████████████▊                | 480/704 [04:16<01:57,  1.91it/s]"
     ]
    },
    {
     "name": "stdout",
     "output_type": "stream",
     "text": [
      "  Batch 480/704 | Loss: 0.1939\n"
     ]
    },
    {
     "name": "stderr",
     "output_type": "stream",
     "text": [
      "Training:  71%|████████████████████████████████████▏              | 500/704 [04:27<01:50,  1.84it/s]"
     ]
    },
    {
     "name": "stdout",
     "output_type": "stream",
     "text": [
      "  Batch 500/704 | Loss: 0.1232\n"
     ]
    },
    {
     "name": "stderr",
     "output_type": "stream",
     "text": [
      "Training:  74%|█████████████████████████████████████▋             | 520/704 [04:37<01:38,  1.87it/s]"
     ]
    },
    {
     "name": "stdout",
     "output_type": "stream",
     "text": [
      "  Batch 520/704 | Loss: 0.1834\n"
     ]
    },
    {
     "name": "stderr",
     "output_type": "stream",
     "text": [
      "Training:  77%|███████████████████████████████████████            | 540/704 [04:48<01:26,  1.90it/s]"
     ]
    },
    {
     "name": "stdout",
     "output_type": "stream",
     "text": [
      "  Batch 540/704 | Loss: 0.1343\n"
     ]
    },
    {
     "name": "stderr",
     "output_type": "stream",
     "text": [
      "Training:  80%|████████████████████████████████████████▌          | 560/704 [04:58<01:16,  1.88it/s]"
     ]
    },
    {
     "name": "stdout",
     "output_type": "stream",
     "text": [
      "  Batch 560/704 | Loss: 0.1480\n"
     ]
    },
    {
     "name": "stderr",
     "output_type": "stream",
     "text": [
      "Training:  82%|██████████████████████████████████████████         | 580/704 [05:09<01:05,  1.90it/s]"
     ]
    },
    {
     "name": "stdout",
     "output_type": "stream",
     "text": [
      "  Batch 580/704 | Loss: 0.2585\n"
     ]
    },
    {
     "name": "stderr",
     "output_type": "stream",
     "text": [
      "Training:  85%|███████████████████████████████████████████▍       | 600/704 [05:20<00:54,  1.90it/s]"
     ]
    },
    {
     "name": "stdout",
     "output_type": "stream",
     "text": [
      "  Batch 600/704 | Loss: 0.1258\n"
     ]
    },
    {
     "name": "stderr",
     "output_type": "stream",
     "text": [
      "Training:  88%|████████████████████████████████████████████▉      | 620/704 [05:30<00:43,  1.92it/s]"
     ]
    },
    {
     "name": "stdout",
     "output_type": "stream",
     "text": [
      "  Batch 620/704 | Loss: 0.1243\n"
     ]
    },
    {
     "name": "stderr",
     "output_type": "stream",
     "text": [
      "Training:  91%|██████████████████████████████████████████████▎    | 640/704 [05:41<00:33,  1.91it/s]"
     ]
    },
    {
     "name": "stdout",
     "output_type": "stream",
     "text": [
      "  Batch 640/704 | Loss: 0.0878\n"
     ]
    },
    {
     "name": "stderr",
     "output_type": "stream",
     "text": [
      "Training:  94%|███████████████████████████████████████████████▊   | 660/704 [05:52<00:22,  1.91it/s]"
     ]
    },
    {
     "name": "stdout",
     "output_type": "stream",
     "text": [
      "  Batch 660/704 | Loss: 0.1726\n"
     ]
    },
    {
     "name": "stderr",
     "output_type": "stream",
     "text": [
      "Training:  97%|█████████████████████████████████████████████████▎ | 680/704 [06:02<00:12,  1.88it/s]"
     ]
    },
    {
     "name": "stdout",
     "output_type": "stream",
     "text": [
      "  Batch 680/704 | Loss: 0.0958\n"
     ]
    },
    {
     "name": "stderr",
     "output_type": "stream",
     "text": [
      "Training:  99%|██████████████████████████████████████████████████▋| 700/704 [06:13<00:02,  1.89it/s]"
     ]
    },
    {
     "name": "stdout",
     "output_type": "stream",
     "text": [
      "  Batch 700/704 | Loss: 0.0741\n"
     ]
    },
    {
     "name": "stderr",
     "output_type": "stream",
     "text": [
      "Training: 100%|███████████████████████████████████████████████████| 704/704 [06:15<00:00,  1.87it/s]\n",
      "Validation: 100%|███████████████████████████████████████████████████| 79/79 [00:19<00:00,  4.10it/s]"
     ]
    },
    {
     "name": "stdout",
     "output_type": "stream",
     "text": [
      "⚠️ No improvement. Patience: 2/5\n",
      "\n",
      "--- Epoch 6 | Reveal Ratio: 0.88 ---\n"
     ]
    },
    {
     "name": "stderr",
     "output_type": "stream",
     "text": [
      "\n",
      "Training:   0%|                                                             | 0/704 [00:00<?, ?it/s]"
     ]
    },
    {
     "name": "stdout",
     "output_type": "stream",
     "text": [
      "  Batch 0/704 | Loss: 0.4404\n"
     ]
    },
    {
     "name": "stderr",
     "output_type": "stream",
     "text": [
      "Training:   3%|█▍                                                  | 20/704 [00:11<06:19,  1.80it/s]"
     ]
    },
    {
     "name": "stdout",
     "output_type": "stream",
     "text": [
      "  Batch 20/704 | Loss: 0.4205\n"
     ]
    },
    {
     "name": "stderr",
     "output_type": "stream",
     "text": [
      "Training:   6%|██▉                                                 | 40/704 [00:22<06:11,  1.79it/s]"
     ]
    },
    {
     "name": "stdout",
     "output_type": "stream",
     "text": [
      "  Batch 40/704 | Loss: 0.3797\n"
     ]
    },
    {
     "name": "stderr",
     "output_type": "stream",
     "text": [
      "Training:   9%|████▍                                               | 60/704 [00:33<06:17,  1.71it/s]"
     ]
    },
    {
     "name": "stdout",
     "output_type": "stream",
     "text": [
      "  Batch 60/704 | Loss: 0.4186\n"
     ]
    },
    {
     "name": "stderr",
     "output_type": "stream",
     "text": [
      "Training:  11%|█████▉                                              | 80/704 [00:44<05:37,  1.85it/s]"
     ]
    },
    {
     "name": "stdout",
     "output_type": "stream",
     "text": [
      "  Batch 80/704 | Loss: 0.3098\n"
     ]
    },
    {
     "name": "stderr",
     "output_type": "stream",
     "text": [
      "Training:  14%|███████▏                                           | 100/704 [00:55<05:26,  1.85it/s]"
     ]
    },
    {
     "name": "stdout",
     "output_type": "stream",
     "text": [
      "  Batch 100/704 | Loss: 0.3129\n"
     ]
    },
    {
     "name": "stderr",
     "output_type": "stream",
     "text": [
      "Training:  17%|████████▋                                          | 120/704 [01:06<05:28,  1.78it/s]"
     ]
    },
    {
     "name": "stdout",
     "output_type": "stream",
     "text": [
      "  Batch 120/704 | Loss: 0.4651\n"
     ]
    },
    {
     "name": "stderr",
     "output_type": "stream",
     "text": [
      "Training:  20%|██████████▏                                        | 140/704 [01:17<05:06,  1.84it/s]"
     ]
    },
    {
     "name": "stdout",
     "output_type": "stream",
     "text": [
      "  Batch 140/704 | Loss: 0.2546\n"
     ]
    },
    {
     "name": "stderr",
     "output_type": "stream",
     "text": [
      "Training:  23%|███████████▌                                       | 160/704 [01:28<04:56,  1.84it/s]"
     ]
    },
    {
     "name": "stdout",
     "output_type": "stream",
     "text": [
      "  Batch 160/704 | Loss: 0.2697\n"
     ]
    },
    {
     "name": "stderr",
     "output_type": "stream",
     "text": [
      "Training:  26%|█████████████                                      | 180/704 [01:39<04:52,  1.79it/s]"
     ]
    },
    {
     "name": "stdout",
     "output_type": "stream",
     "text": [
      "  Batch 180/704 | Loss: 0.3061\n"
     ]
    },
    {
     "name": "stderr",
     "output_type": "stream",
     "text": [
      "Training:  28%|██████████████▍                                    | 200/704 [01:50<04:36,  1.82it/s]"
     ]
    },
    {
     "name": "stdout",
     "output_type": "stream",
     "text": [
      "  Batch 200/704 | Loss: 0.1800\n"
     ]
    },
    {
     "name": "stderr",
     "output_type": "stream",
     "text": [
      "Training:  31%|███████████████▉                                   | 220/704 [02:01<04:28,  1.80it/s]"
     ]
    },
    {
     "name": "stdout",
     "output_type": "stream",
     "text": [
      "  Batch 220/704 | Loss: 0.2325\n"
     ]
    },
    {
     "name": "stderr",
     "output_type": "stream",
     "text": [
      "Training:  34%|█████████████████▍                                 | 240/704 [02:12<04:15,  1.82it/s]"
     ]
    },
    {
     "name": "stdout",
     "output_type": "stream",
     "text": [
      "  Batch 240/704 | Loss: 0.3473\n"
     ]
    },
    {
     "name": "stderr",
     "output_type": "stream",
     "text": [
      "Training:  37%|██████████████████▊                                | 260/704 [02:23<04:03,  1.82it/s]"
     ]
    },
    {
     "name": "stdout",
     "output_type": "stream",
     "text": [
      "  Batch 260/704 | Loss: 0.2832\n"
     ]
    },
    {
     "name": "stderr",
     "output_type": "stream",
     "text": [
      "Training:  40%|████████████████████▎                              | 280/704 [02:34<03:50,  1.84it/s]"
     ]
    },
    {
     "name": "stdout",
     "output_type": "stream",
     "text": [
      "  Batch 280/704 | Loss: 0.3077\n"
     ]
    },
    {
     "name": "stderr",
     "output_type": "stream",
     "text": [
      "Training:  43%|█████████████████████▋                             | 300/704 [02:45<03:39,  1.84it/s]"
     ]
    },
    {
     "name": "stdout",
     "output_type": "stream",
     "text": [
      "  Batch 300/704 | Loss: 0.1935\n"
     ]
    },
    {
     "name": "stderr",
     "output_type": "stream",
     "text": [
      "Training:  45%|███████████████████████▏                           | 320/704 [02:56<03:29,  1.83it/s]"
     ]
    },
    {
     "name": "stdout",
     "output_type": "stream",
     "text": [
      "  Batch 320/704 | Loss: 0.1555\n"
     ]
    },
    {
     "name": "stderr",
     "output_type": "stream",
     "text": [
      "Training:  48%|████████████████████████▋                          | 340/704 [03:07<03:17,  1.84it/s]"
     ]
    },
    {
     "name": "stdout",
     "output_type": "stream",
     "text": [
      "  Batch 340/704 | Loss: 0.1769\n"
     ]
    },
    {
     "name": "stderr",
     "output_type": "stream",
     "text": [
      "Training:  51%|██████████████████████████                         | 360/704 [03:18<03:07,  1.84it/s]"
     ]
    },
    {
     "name": "stdout",
     "output_type": "stream",
     "text": [
      "  Batch 360/704 | Loss: 0.1936\n"
     ]
    },
    {
     "name": "stderr",
     "output_type": "stream",
     "text": [
      "Training:  54%|███████████████████████████▌                       | 380/704 [03:29<02:58,  1.81it/s]"
     ]
    },
    {
     "name": "stdout",
     "output_type": "stream",
     "text": [
      "  Batch 380/704 | Loss: 0.2145\n"
     ]
    },
    {
     "name": "stderr",
     "output_type": "stream",
     "text": [
      "Training:  57%|████████████████████████████▉                      | 400/704 [03:40<02:48,  1.81it/s]"
     ]
    },
    {
     "name": "stdout",
     "output_type": "stream",
     "text": [
      "  Batch 400/704 | Loss: 0.2482\n"
     ]
    },
    {
     "name": "stderr",
     "output_type": "stream",
     "text": [
      "Training:  60%|██████████████████████████████▍                    | 420/704 [03:51<02:34,  1.84it/s]"
     ]
    },
    {
     "name": "stdout",
     "output_type": "stream",
     "text": [
      "  Batch 420/704 | Loss: 0.1861\n"
     ]
    },
    {
     "name": "stderr",
     "output_type": "stream",
     "text": [
      "Training:  62%|███████████████████████████████▉                   | 440/704 [04:02<02:23,  1.84it/s]"
     ]
    },
    {
     "name": "stdout",
     "output_type": "stream",
     "text": [
      "  Batch 440/704 | Loss: 0.2612\n"
     ]
    },
    {
     "name": "stderr",
     "output_type": "stream",
     "text": [
      "Training:  65%|█████████████████████████████████▎                 | 460/704 [04:13<02:12,  1.84it/s]"
     ]
    },
    {
     "name": "stdout",
     "output_type": "stream",
     "text": [
      "  Batch 460/704 | Loss: 0.2640\n"
     ]
    },
    {
     "name": "stderr",
     "output_type": "stream",
     "text": [
      "Training:  68%|██████████████████████████████████▊                | 480/704 [04:24<02:03,  1.82it/s]"
     ]
    },
    {
     "name": "stdout",
     "output_type": "stream",
     "text": [
      "  Batch 480/704 | Loss: 0.1534\n"
     ]
    },
    {
     "name": "stderr",
     "output_type": "stream",
     "text": [
      "Training:  71%|████████████████████████████████████▏              | 500/704 [04:35<01:51,  1.84it/s]"
     ]
    },
    {
     "name": "stdout",
     "output_type": "stream",
     "text": [
      "  Batch 500/704 | Loss: 0.2366\n"
     ]
    },
    {
     "name": "stderr",
     "output_type": "stream",
     "text": [
      "Training:  74%|█████████████████████████████████████▋             | 520/704 [04:46<01:41,  1.82it/s]"
     ]
    },
    {
     "name": "stdout",
     "output_type": "stream",
     "text": [
      "  Batch 520/704 | Loss: 0.1690\n"
     ]
    },
    {
     "name": "stderr",
     "output_type": "stream",
     "text": [
      "Training:  77%|███████████████████████████████████████            | 540/704 [04:57<01:29,  1.84it/s]"
     ]
    },
    {
     "name": "stdout",
     "output_type": "stream",
     "text": [
      "  Batch 540/704 | Loss: 0.1972\n"
     ]
    },
    {
     "name": "stderr",
     "output_type": "stream",
     "text": [
      "Training:  80%|████████████████████████████████████████▌          | 560/704 [05:08<01:19,  1.81it/s]"
     ]
    },
    {
     "name": "stdout",
     "output_type": "stream",
     "text": [
      "  Batch 560/704 | Loss: 0.1442\n"
     ]
    },
    {
     "name": "stderr",
     "output_type": "stream",
     "text": [
      "Training:  82%|██████████████████████████████████████████         | 580/704 [05:19<01:10,  1.77it/s]"
     ]
    },
    {
     "name": "stdout",
     "output_type": "stream",
     "text": [
      "  Batch 580/704 | Loss: 0.2492\n"
     ]
    },
    {
     "name": "stderr",
     "output_type": "stream",
     "text": [
      "Training:  85%|███████████████████████████████████████████▍       | 600/704 [05:30<00:57,  1.80it/s]"
     ]
    },
    {
     "name": "stdout",
     "output_type": "stream",
     "text": [
      "  Batch 600/704 | Loss: 0.1137\n"
     ]
    },
    {
     "name": "stderr",
     "output_type": "stream",
     "text": [
      "Training:  88%|████████████████████████████████████████████▉      | 620/704 [05:41<00:45,  1.83it/s]"
     ]
    },
    {
     "name": "stdout",
     "output_type": "stream",
     "text": [
      "  Batch 620/704 | Loss: 0.0879\n"
     ]
    },
    {
     "name": "stderr",
     "output_type": "stream",
     "text": [
      "Training:  91%|██████████████████████████████████████████████▎    | 640/704 [05:52<00:38,  1.65it/s]"
     ]
    },
    {
     "name": "stdout",
     "output_type": "stream",
     "text": [
      "  Batch 640/704 | Loss: 0.1855\n"
     ]
    },
    {
     "name": "stderr",
     "output_type": "stream",
     "text": [
      "Training:  94%|███████████████████████████████████████████████▊   | 660/704 [06:03<00:24,  1.83it/s]"
     ]
    },
    {
     "name": "stdout",
     "output_type": "stream",
     "text": [
      "  Batch 660/704 | Loss: 0.1242\n"
     ]
    },
    {
     "name": "stderr",
     "output_type": "stream",
     "text": [
      "Training:  97%|█████████████████████████████████████████████████▎ | 680/704 [06:14<00:13,  1.82it/s]"
     ]
    },
    {
     "name": "stdout",
     "output_type": "stream",
     "text": [
      "  Batch 680/704 | Loss: 0.1381\n"
     ]
    },
    {
     "name": "stderr",
     "output_type": "stream",
     "text": [
      "Training:  99%|██████████████████████████████████████████████████▋| 700/704 [06:25<00:02,  1.80it/s]"
     ]
    },
    {
     "name": "stdout",
     "output_type": "stream",
     "text": [
      "  Batch 700/704 | Loss: 0.1659\n"
     ]
    },
    {
     "name": "stderr",
     "output_type": "stream",
     "text": [
      "Training: 100%|███████████████████████████████████████████████████| 704/704 [06:27<00:00,  1.82it/s]\n",
      "Validation: 100%|███████████████████████████████████████████████████| 79/79 [00:19<00:00,  3.96it/s]"
     ]
    },
    {
     "name": "stdout",
     "output_type": "stream",
     "text": [
      "⚠️ No improvement. Patience: 3/5\n",
      "\n",
      "--- Epoch 7 | Reveal Ratio: 0.86 ---\n"
     ]
    },
    {
     "name": "stderr",
     "output_type": "stream",
     "text": [
      "\n",
      "Training:   0%|                                                             | 0/704 [00:00<?, ?it/s]"
     ]
    },
    {
     "name": "stdout",
     "output_type": "stream",
     "text": [
      "  Batch 0/704 | Loss: 0.3496\n"
     ]
    },
    {
     "name": "stderr",
     "output_type": "stream",
     "text": [
      "Training:   3%|█▍                                                  | 20/704 [00:11<06:25,  1.77it/s]"
     ]
    },
    {
     "name": "stdout",
     "output_type": "stream",
     "text": [
      "  Batch 20/704 | Loss: 0.3585\n"
     ]
    },
    {
     "name": "stderr",
     "output_type": "stream",
     "text": [
      "Training:   6%|██▉                                                 | 40/704 [00:22<06:11,  1.79it/s]"
     ]
    },
    {
     "name": "stdout",
     "output_type": "stream",
     "text": [
      "  Batch 40/704 | Loss: 0.2860\n"
     ]
    },
    {
     "name": "stderr",
     "output_type": "stream",
     "text": [
      "Training:   9%|████▍                                               | 60/704 [00:34<06:01,  1.78it/s]"
     ]
    },
    {
     "name": "stdout",
     "output_type": "stream",
     "text": [
      "  Batch 60/704 | Loss: 0.2308\n"
     ]
    },
    {
     "name": "stderr",
     "output_type": "stream",
     "text": [
      "Training:  11%|█████▉                                              | 80/704 [00:45<05:48,  1.79it/s]"
     ]
    },
    {
     "name": "stdout",
     "output_type": "stream",
     "text": [
      "  Batch 80/704 | Loss: 0.2904\n"
     ]
    },
    {
     "name": "stderr",
     "output_type": "stream",
     "text": [
      "Training:  14%|███████▏                                           | 100/704 [00:56<05:35,  1.80it/s]"
     ]
    },
    {
     "name": "stdout",
     "output_type": "stream",
     "text": [
      "  Batch 100/704 | Loss: 0.2522\n"
     ]
    },
    {
     "name": "stderr",
     "output_type": "stream",
     "text": [
      "Training:  17%|████████▋                                          | 120/704 [01:07<05:20,  1.82it/s]"
     ]
    },
    {
     "name": "stdout",
     "output_type": "stream",
     "text": [
      "  Batch 120/704 | Loss: 0.2169\n"
     ]
    },
    {
     "name": "stderr",
     "output_type": "stream",
     "text": [
      "Training:  20%|██████████▏                                        | 140/704 [01:18<05:09,  1.82it/s]"
     ]
    },
    {
     "name": "stdout",
     "output_type": "stream",
     "text": [
      "  Batch 140/704 | Loss: 0.2763\n"
     ]
    },
    {
     "name": "stderr",
     "output_type": "stream",
     "text": [
      "Training:  23%|███████████▌                                       | 160/704 [01:29<05:00,  1.81it/s]"
     ]
    },
    {
     "name": "stdout",
     "output_type": "stream",
     "text": [
      "  Batch 160/704 | Loss: 0.1966\n"
     ]
    },
    {
     "name": "stderr",
     "output_type": "stream",
     "text": [
      "Training:  26%|█████████████                                      | 180/704 [01:41<04:47,  1.82it/s]"
     ]
    },
    {
     "name": "stdout",
     "output_type": "stream",
     "text": [
      "  Batch 180/704 | Loss: 0.2337\n"
     ]
    },
    {
     "name": "stderr",
     "output_type": "stream",
     "text": [
      "Training:  28%|██████████████▍                                    | 200/704 [01:52<04:44,  1.77it/s]"
     ]
    },
    {
     "name": "stdout",
     "output_type": "stream",
     "text": [
      "  Batch 200/704 | Loss: 0.2018\n"
     ]
    },
    {
     "name": "stderr",
     "output_type": "stream",
     "text": [
      "Training:  31%|███████████████▉                                   | 220/704 [02:03<04:33,  1.77it/s]"
     ]
    },
    {
     "name": "stdout",
     "output_type": "stream",
     "text": [
      "  Batch 220/704 | Loss: 0.2429\n"
     ]
    },
    {
     "name": "stderr",
     "output_type": "stream",
     "text": [
      "Training:  34%|█████████████████▍                                 | 240/704 [02:14<04:20,  1.78it/s]"
     ]
    },
    {
     "name": "stdout",
     "output_type": "stream",
     "text": [
      "  Batch 240/704 | Loss: 0.2171\n"
     ]
    },
    {
     "name": "stderr",
     "output_type": "stream",
     "text": [
      "Training:  37%|██████████████████▊                                | 260/704 [02:26<04:07,  1.79it/s]"
     ]
    },
    {
     "name": "stdout",
     "output_type": "stream",
     "text": [
      "  Batch 260/704 | Loss: 0.1025\n"
     ]
    },
    {
     "name": "stderr",
     "output_type": "stream",
     "text": [
      "Training:  40%|████████████████████▎                              | 280/704 [02:37<03:53,  1.82it/s]"
     ]
    },
    {
     "name": "stdout",
     "output_type": "stream",
     "text": [
      "  Batch 280/704 | Loss: 0.1957\n"
     ]
    },
    {
     "name": "stderr",
     "output_type": "stream",
     "text": [
      "Training:  43%|█████████████████████▋                             | 300/704 [02:48<04:01,  1.67it/s]"
     ]
    },
    {
     "name": "stdout",
     "output_type": "stream",
     "text": [
      "  Batch 300/704 | Loss: 0.1966\n"
     ]
    },
    {
     "name": "stderr",
     "output_type": "stream",
     "text": [
      "Training:  45%|███████████████████████▏                           | 320/704 [02:59<03:31,  1.81it/s]"
     ]
    },
    {
     "name": "stdout",
     "output_type": "stream",
     "text": [
      "  Batch 320/704 | Loss: 0.1870\n"
     ]
    },
    {
     "name": "stderr",
     "output_type": "stream",
     "text": [
      "Training:  48%|████████████████████████▋                          | 340/704 [03:10<03:19,  1.83it/s]"
     ]
    },
    {
     "name": "stdout",
     "output_type": "stream",
     "text": [
      "  Batch 340/704 | Loss: 0.1285\n"
     ]
    },
    {
     "name": "stderr",
     "output_type": "stream",
     "text": [
      "Training:  51%|██████████████████████████                         | 360/704 [03:22<03:19,  1.72it/s]"
     ]
    },
    {
     "name": "stdout",
     "output_type": "stream",
     "text": [
      "  Batch 360/704 | Loss: 0.1714\n"
     ]
    },
    {
     "name": "stderr",
     "output_type": "stream",
     "text": [
      "Training:  54%|███████████████████████████▌                       | 380/704 [03:33<03:00,  1.80it/s]"
     ]
    },
    {
     "name": "stdout",
     "output_type": "stream",
     "text": [
      "  Batch 380/704 | Loss: 0.2032\n"
     ]
    },
    {
     "name": "stderr",
     "output_type": "stream",
     "text": [
      "Training:  57%|████████████████████████████▉                      | 400/704 [03:44<03:01,  1.68it/s]"
     ]
    },
    {
     "name": "stdout",
     "output_type": "stream",
     "text": [
      "  Batch 400/704 | Loss: 0.2072\n"
     ]
    },
    {
     "name": "stderr",
     "output_type": "stream",
     "text": [
      "Training:  60%|██████████████████████████████▍                    | 420/704 [03:55<02:39,  1.78it/s]"
     ]
    },
    {
     "name": "stdout",
     "output_type": "stream",
     "text": [
      "  Batch 420/704 | Loss: 0.1910\n"
     ]
    },
    {
     "name": "stderr",
     "output_type": "stream",
     "text": [
      "Training:  62%|███████████████████████████████▉                   | 440/704 [04:06<02:25,  1.81it/s]"
     ]
    },
    {
     "name": "stdout",
     "output_type": "stream",
     "text": [
      "  Batch 440/704 | Loss: 0.1916\n"
     ]
    },
    {
     "name": "stderr",
     "output_type": "stream",
     "text": [
      "Training:  65%|█████████████████████████████████▎                 | 460/704 [04:18<02:16,  1.79it/s]"
     ]
    },
    {
     "name": "stdout",
     "output_type": "stream",
     "text": [
      "  Batch 460/704 | Loss: 0.2729\n"
     ]
    },
    {
     "name": "stderr",
     "output_type": "stream",
     "text": [
      "Training:  68%|██████████████████████████████████▊                | 480/704 [04:29<02:04,  1.80it/s]"
     ]
    },
    {
     "name": "stdout",
     "output_type": "stream",
     "text": [
      "  Batch 480/704 | Loss: 0.1527\n"
     ]
    },
    {
     "name": "stderr",
     "output_type": "stream",
     "text": [
      "Training:  71%|████████████████████████████████████▏              | 500/704 [04:40<01:52,  1.81it/s]"
     ]
    },
    {
     "name": "stdout",
     "output_type": "stream",
     "text": [
      "  Batch 500/704 | Loss: 0.1835\n"
     ]
    },
    {
     "name": "stderr",
     "output_type": "stream",
     "text": [
      "Training:  74%|█████████████████████████████████████▋             | 520/704 [04:51<01:42,  1.80it/s]"
     ]
    },
    {
     "name": "stdout",
     "output_type": "stream",
     "text": [
      "  Batch 520/704 | Loss: 0.1686\n"
     ]
    },
    {
     "name": "stderr",
     "output_type": "stream",
     "text": [
      "Training:  77%|███████████████████████████████████████            | 540/704 [05:03<01:31,  1.79it/s]"
     ]
    },
    {
     "name": "stdout",
     "output_type": "stream",
     "text": [
      "  Batch 540/704 | Loss: 0.1733\n"
     ]
    },
    {
     "name": "stderr",
     "output_type": "stream",
     "text": [
      "Training:  80%|████████████████████████████████████████▌          | 560/704 [05:14<01:20,  1.80it/s]"
     ]
    },
    {
     "name": "stdout",
     "output_type": "stream",
     "text": [
      "  Batch 560/704 | Loss: 0.1686\n"
     ]
    },
    {
     "name": "stderr",
     "output_type": "stream",
     "text": [
      "Training:  82%|██████████████████████████████████████████         | 580/704 [05:25<01:08,  1.82it/s]"
     ]
    },
    {
     "name": "stdout",
     "output_type": "stream",
     "text": [
      "  Batch 580/704 | Loss: 0.1587\n"
     ]
    },
    {
     "name": "stderr",
     "output_type": "stream",
     "text": [
      "Training:  85%|███████████████████████████████████████████▍       | 600/704 [05:36<00:58,  1.78it/s]"
     ]
    },
    {
     "name": "stdout",
     "output_type": "stream",
     "text": [
      "  Batch 600/704 | Loss: 0.1545\n"
     ]
    },
    {
     "name": "stderr",
     "output_type": "stream",
     "text": [
      "Training:  88%|████████████████████████████████████████████▉      | 620/704 [05:47<00:46,  1.82it/s]"
     ]
    },
    {
     "name": "stdout",
     "output_type": "stream",
     "text": [
      "  Batch 620/704 | Loss: 0.1230\n"
     ]
    },
    {
     "name": "stderr",
     "output_type": "stream",
     "text": [
      "Training:  91%|██████████████████████████████████████████████▎    | 640/704 [05:58<00:37,  1.73it/s]"
     ]
    },
    {
     "name": "stdout",
     "output_type": "stream",
     "text": [
      "  Batch 640/704 | Loss: 0.1587\n"
     ]
    },
    {
     "name": "stderr",
     "output_type": "stream",
     "text": [
      "Training:  94%|███████████████████████████████████████████████▊   | 660/704 [06:10<00:24,  1.78it/s]"
     ]
    },
    {
     "name": "stdout",
     "output_type": "stream",
     "text": [
      "  Batch 660/704 | Loss: 0.0824\n"
     ]
    },
    {
     "name": "stderr",
     "output_type": "stream",
     "text": [
      "Training:  97%|█████████████████████████████████████████████████▎ | 680/704 [06:21<00:13,  1.81it/s]"
     ]
    },
    {
     "name": "stdout",
     "output_type": "stream",
     "text": [
      "  Batch 680/704 | Loss: 0.1327\n"
     ]
    },
    {
     "name": "stderr",
     "output_type": "stream",
     "text": [
      "Training:  99%|██████████████████████████████████████████████████▋| 700/704 [06:32<00:02,  1.71it/s]"
     ]
    },
    {
     "name": "stdout",
     "output_type": "stream",
     "text": [
      "  Batch 700/704 | Loss: 0.1178\n"
     ]
    },
    {
     "name": "stderr",
     "output_type": "stream",
     "text": [
      "Training: 100%|███████████████████████████████████████████████████| 704/704 [06:34<00:00,  1.78it/s]\n",
      "Validation: 100%|███████████████████████████████████████████████████| 79/79 [00:20<00:00,  3.88it/s]"
     ]
    },
    {
     "name": "stdout",
     "output_type": "stream",
     "text": [
      "⚠️ No improvement. Patience: 4/5\n",
      "\n",
      "--- Epoch 8 | Reveal Ratio: 0.84 ---\n"
     ]
    },
    {
     "name": "stderr",
     "output_type": "stream",
     "text": [
      "\n",
      "Training:   0%|                                                             | 0/704 [00:00<?, ?it/s]"
     ]
    },
    {
     "name": "stdout",
     "output_type": "stream",
     "text": [
      "  Batch 0/704 | Loss: 0.2797\n"
     ]
    },
    {
     "name": "stderr",
     "output_type": "stream",
     "text": [
      "Training:   3%|█▍                                                  | 20/704 [00:11<06:32,  1.74it/s]"
     ]
    },
    {
     "name": "stdout",
     "output_type": "stream",
     "text": [
      "  Batch 20/704 | Loss: 0.3208\n"
     ]
    },
    {
     "name": "stderr",
     "output_type": "stream",
     "text": [
      "Training:   6%|██▉                                                 | 40/704 [00:23<06:21,  1.74it/s]"
     ]
    },
    {
     "name": "stdout",
     "output_type": "stream",
     "text": [
      "  Batch 40/704 | Loss: 0.2755\n"
     ]
    },
    {
     "name": "stderr",
     "output_type": "stream",
     "text": [
      "Training:   9%|████▍                                               | 60/704 [00:34<06:09,  1.74it/s]"
     ]
    },
    {
     "name": "stdout",
     "output_type": "stream",
     "text": [
      "  Batch 60/704 | Loss: 0.2310\n"
     ]
    },
    {
     "name": "stderr",
     "output_type": "stream",
     "text": [
      "Training:  11%|█████▉                                              | 80/704 [00:46<06:04,  1.71it/s]"
     ]
    },
    {
     "name": "stdout",
     "output_type": "stream",
     "text": [
      "  Batch 80/704 | Loss: 0.1971\n"
     ]
    },
    {
     "name": "stderr",
     "output_type": "stream",
     "text": [
      "Training:  14%|███████▏                                           | 100/704 [00:58<05:42,  1.77it/s]"
     ]
    },
    {
     "name": "stdout",
     "output_type": "stream",
     "text": [
      "  Batch 100/704 | Loss: 0.2417\n"
     ]
    },
    {
     "name": "stderr",
     "output_type": "stream",
     "text": [
      "Training:  17%|████████▋                                          | 120/704 [01:09<05:31,  1.76it/s]"
     ]
    },
    {
     "name": "stdout",
     "output_type": "stream",
     "text": [
      "  Batch 120/704 | Loss: 0.1759\n"
     ]
    },
    {
     "name": "stderr",
     "output_type": "stream",
     "text": [
      "Training:  20%|██████████▏                                        | 140/704 [01:21<05:20,  1.76it/s]"
     ]
    },
    {
     "name": "stdout",
     "output_type": "stream",
     "text": [
      "  Batch 140/704 | Loss: 0.2413\n"
     ]
    },
    {
     "name": "stderr",
     "output_type": "stream",
     "text": [
      "Training:  23%|███████████▌                                       | 160/704 [01:32<05:08,  1.76it/s]"
     ]
    },
    {
     "name": "stdout",
     "output_type": "stream",
     "text": [
      "  Batch 160/704 | Loss: 0.2561\n"
     ]
    },
    {
     "name": "stderr",
     "output_type": "stream",
     "text": [
      "Training:  26%|█████████████                                      | 180/704 [01:43<05:13,  1.67it/s]"
     ]
    },
    {
     "name": "stdout",
     "output_type": "stream",
     "text": [
      "  Batch 180/704 | Loss: 0.2256\n"
     ]
    },
    {
     "name": "stderr",
     "output_type": "stream",
     "text": [
      "Training:  28%|██████████████▍                                    | 200/704 [01:55<04:47,  1.76it/s]"
     ]
    },
    {
     "name": "stdout",
     "output_type": "stream",
     "text": [
      "  Batch 200/704 | Loss: 0.2877\n"
     ]
    },
    {
     "name": "stderr",
     "output_type": "stream",
     "text": [
      "Training:  31%|███████████████▉                                   | 220/704 [02:06<04:43,  1.71it/s]"
     ]
    },
    {
     "name": "stdout",
     "output_type": "stream",
     "text": [
      "  Batch 220/704 | Loss: 0.2281\n"
     ]
    },
    {
     "name": "stderr",
     "output_type": "stream",
     "text": [
      "Training:  34%|█████████████████▍                                 | 240/704 [02:18<04:30,  1.71it/s]"
     ]
    },
    {
     "name": "stdout",
     "output_type": "stream",
     "text": [
      "  Batch 240/704 | Loss: 0.1313\n"
     ]
    },
    {
     "name": "stderr",
     "output_type": "stream",
     "text": [
      "Training:  37%|██████████████████▊                                | 260/704 [02:29<04:10,  1.77it/s]"
     ]
    },
    {
     "name": "stdout",
     "output_type": "stream",
     "text": [
      "  Batch 260/704 | Loss: 0.2334\n"
     ]
    },
    {
     "name": "stderr",
     "output_type": "stream",
     "text": [
      "Training:  40%|████████████████████▎                              | 280/704 [02:41<04:02,  1.75it/s]"
     ]
    },
    {
     "name": "stdout",
     "output_type": "stream",
     "text": [
      "  Batch 280/704 | Loss: 0.1864\n"
     ]
    },
    {
     "name": "stderr",
     "output_type": "stream",
     "text": [
      "Training:  43%|█████████████████████▋                             | 300/704 [02:53<03:49,  1.76it/s]"
     ]
    },
    {
     "name": "stdout",
     "output_type": "stream",
     "text": [
      "  Batch 300/704 | Loss: 0.2447\n"
     ]
    },
    {
     "name": "stderr",
     "output_type": "stream",
     "text": [
      "Training:  45%|███████████████████████▏                           | 320/704 [03:04<03:46,  1.70it/s]"
     ]
    },
    {
     "name": "stdout",
     "output_type": "stream",
     "text": [
      "  Batch 320/704 | Loss: 0.2529\n"
     ]
    },
    {
     "name": "stderr",
     "output_type": "stream",
     "text": [
      "Training:  48%|████████████████████████▋                          | 340/704 [03:16<03:28,  1.74it/s]"
     ]
    },
    {
     "name": "stdout",
     "output_type": "stream",
     "text": [
      "  Batch 340/704 | Loss: 0.1722\n"
     ]
    },
    {
     "name": "stderr",
     "output_type": "stream",
     "text": [
      "Training:  51%|██████████████████████████                         | 360/704 [03:27<03:14,  1.77it/s]"
     ]
    },
    {
     "name": "stdout",
     "output_type": "stream",
     "text": [
      "  Batch 360/704 | Loss: 0.1703\n"
     ]
    },
    {
     "name": "stderr",
     "output_type": "stream",
     "text": [
      "Training:  54%|███████████████████████████▌                       | 380/704 [03:39<03:02,  1.77it/s]"
     ]
    },
    {
     "name": "stdout",
     "output_type": "stream",
     "text": [
      "  Batch 380/704 | Loss: 0.2144\n"
     ]
    },
    {
     "name": "stderr",
     "output_type": "stream",
     "text": [
      "Training:  57%|████████████████████████████▉                      | 400/704 [03:50<02:58,  1.70it/s]"
     ]
    },
    {
     "name": "stdout",
     "output_type": "stream",
     "text": [
      "  Batch 400/704 | Loss: 0.1393\n"
     ]
    },
    {
     "name": "stderr",
     "output_type": "stream",
     "text": [
      "Training:  60%|██████████████████████████████▍                    | 420/704 [04:02<02:40,  1.76it/s]"
     ]
    },
    {
     "name": "stdout",
     "output_type": "stream",
     "text": [
      "  Batch 420/704 | Loss: 0.2194\n"
     ]
    },
    {
     "name": "stderr",
     "output_type": "stream",
     "text": [
      "Training:  62%|███████████████████████████████▉                   | 440/704 [04:13<02:29,  1.76it/s]"
     ]
    },
    {
     "name": "stdout",
     "output_type": "stream",
     "text": [
      "  Batch 440/704 | Loss: 0.1669\n"
     ]
    },
    {
     "name": "stderr",
     "output_type": "stream",
     "text": [
      "Training:  65%|█████████████████████████████████▎                 | 460/704 [04:25<02:24,  1.69it/s]"
     ]
    },
    {
     "name": "stdout",
     "output_type": "stream",
     "text": [
      "  Batch 460/704 | Loss: 0.1927\n"
     ]
    },
    {
     "name": "stderr",
     "output_type": "stream",
     "text": [
      "Training:  68%|██████████████████████████████████▊                | 480/704 [04:36<02:09,  1.73it/s]"
     ]
    },
    {
     "name": "stdout",
     "output_type": "stream",
     "text": [
      "  Batch 480/704 | Loss: 0.1327\n"
     ]
    },
    {
     "name": "stderr",
     "output_type": "stream",
     "text": [
      "Training:  71%|████████████████████████████████████▏              | 500/704 [04:48<01:56,  1.75it/s]"
     ]
    },
    {
     "name": "stdout",
     "output_type": "stream",
     "text": [
      "  Batch 500/704 | Loss: 0.1282\n"
     ]
    },
    {
     "name": "stderr",
     "output_type": "stream",
     "text": [
      "Training:  74%|█████████████████████████████████████▋             | 520/704 [04:59<01:45,  1.75it/s]"
     ]
    },
    {
     "name": "stdout",
     "output_type": "stream",
     "text": [
      "  Batch 520/704 | Loss: 0.1753\n"
     ]
    },
    {
     "name": "stderr",
     "output_type": "stream",
     "text": [
      "Training:  77%|███████████████████████████████████████            | 540/704 [05:11<01:33,  1.76it/s]"
     ]
    },
    {
     "name": "stdout",
     "output_type": "stream",
     "text": [
      "  Batch 540/704 | Loss: 0.1417\n"
     ]
    },
    {
     "name": "stderr",
     "output_type": "stream",
     "text": [
      "Training:  80%|████████████████████████████████████████▌          | 560/704 [05:22<01:22,  1.76it/s]"
     ]
    },
    {
     "name": "stdout",
     "output_type": "stream",
     "text": [
      "  Batch 560/704 | Loss: 0.1350\n"
     ]
    },
    {
     "name": "stderr",
     "output_type": "stream",
     "text": [
      "Training:  82%|██████████████████████████████████████████         | 580/704 [05:34<01:09,  1.78it/s]"
     ]
    },
    {
     "name": "stdout",
     "output_type": "stream",
     "text": [
      "  Batch 580/704 | Loss: 0.1852\n"
     ]
    },
    {
     "name": "stderr",
     "output_type": "stream",
     "text": [
      "Training:  85%|███████████████████████████████████████████▍       | 600/704 [05:45<00:59,  1.74it/s]"
     ]
    },
    {
     "name": "stdout",
     "output_type": "stream",
     "text": [
      "  Batch 600/704 | Loss: 0.1797\n"
     ]
    },
    {
     "name": "stderr",
     "output_type": "stream",
     "text": [
      "Training:  88%|████████████████████████████████████████████▉      | 620/704 [05:57<00:48,  1.74it/s]"
     ]
    },
    {
     "name": "stdout",
     "output_type": "stream",
     "text": [
      "  Batch 620/704 | Loss: 0.1740\n"
     ]
    },
    {
     "name": "stderr",
     "output_type": "stream",
     "text": [
      "Training:  91%|██████████████████████████████████████████████▎    | 640/704 [06:08<00:36,  1.76it/s]"
     ]
    },
    {
     "name": "stdout",
     "output_type": "stream",
     "text": [
      "  Batch 640/704 | Loss: 0.2052\n"
     ]
    },
    {
     "name": "stderr",
     "output_type": "stream",
     "text": [
      "Training:  94%|███████████████████████████████████████████████▊   | 660/704 [06:20<00:25,  1.72it/s]"
     ]
    },
    {
     "name": "stdout",
     "output_type": "stream",
     "text": [
      "  Batch 660/704 | Loss: 0.1138\n"
     ]
    },
    {
     "name": "stderr",
     "output_type": "stream",
     "text": [
      "Training:  97%|█████████████████████████████████████████████████▎ | 680/704 [06:32<00:15,  1.60it/s]"
     ]
    },
    {
     "name": "stdout",
     "output_type": "stream",
     "text": [
      "  Batch 680/704 | Loss: 0.1809\n"
     ]
    },
    {
     "name": "stderr",
     "output_type": "stream",
     "text": [
      "Training:  99%|██████████████████████████████████████████████████▋| 700/704 [06:43<00:02,  1.75it/s]"
     ]
    },
    {
     "name": "stdout",
     "output_type": "stream",
     "text": [
      "  Batch 700/704 | Loss: 0.1111\n"
     ]
    },
    {
     "name": "stderr",
     "output_type": "stream",
     "text": [
      "Training: 100%|███████████████████████████████████████████████████| 704/704 [06:45<00:00,  1.74it/s]\n",
      "Validation: 100%|███████████████████████████████████████████████████| 79/79 [00:20<00:00,  3.77it/s]"
     ]
    },
    {
     "name": "stdout",
     "output_type": "stream",
     "text": [
      "⚠️ No improvement. Patience: 5/5\n",
      "🛑 Early stopping at epoch 8\n"
     ]
    },
    {
     "name": "stderr",
     "output_type": "stream",
     "text": [
      "\n"
     ]
    },
    {
     "name": "stdout",
     "output_type": "stream",
     "text": [
      "\n",
      "Training completed!\n",
      "Model saved as 'best_model.pth'\n",
      "\n",
      "==============================\n",
      "GAME: learning\n",
      "==============================\n",
      "Current: ________\n",
      "Wrong guesses: 0/6\n",
      "✓ Correct! Guessed: e\n",
      "\n",
      "Current: _e______\n",
      "Wrong guesses: 0/6\n",
      "ok\n",
      "✓ Correct! Guessed: n\n",
      "\n",
      "Current: _e__n_n_\n",
      "Wrong guesses: 0/6\n",
      "ok\n",
      "✓ Correct! Guessed: a\n",
      "\n",
      "Current: _ea_n_n_\n",
      "Wrong guesses: 0/6\n",
      "ok\n",
      "✗ Wrong! Guessed: d\n",
      "\n",
      "Current: _ea_n_n_\n",
      "Wrong guesses: 1/6\n",
      "ok\n",
      "✓ Correct! Guessed: i\n",
      "\n",
      "Current: _ea_nin_\n",
      "Wrong guesses: 1/6\n",
      "ok\n",
      "✓ Correct! Guessed: g\n",
      "\n",
      "Current: _ea_ning\n",
      "Wrong guesses: 1/6\n",
      "ok\n",
      "✓ Correct! Guessed: r\n",
      "\n",
      "Current: _earning\n",
      "Wrong guesses: 1/6\n",
      "ok\n",
      "✗ Wrong! Guessed: m\n",
      "\n",
      "Current: _earning\n",
      "Wrong guesses: 2/6\n",
      "ok\n",
      "✗ Wrong! Guessed: b\n",
      "\n",
      "Current: _earning\n",
      "Wrong guesses: 3/6\n",
      "ok\n",
      "✗ Wrong! Guessed: c\n",
      "\n",
      "Current: _earning\n",
      "Wrong guesses: 4/6\n",
      "ok\n",
      "✗ Wrong! Guessed: p\n",
      "\n",
      "Current: _earning\n",
      "Wrong guesses: 5/6\n",
      "ok\n",
      "✗ Wrong! Guessed: s\n",
      "\n",
      "💀 LOST! Word was: learning\n",
      "Moves: e -> n -> a -> d -> i -> g -> r -> m -> b -> c -> p -> s\n"
     ]
    },
    {
     "data": {
      "text/plain": [
       "(False, ['e', 'n', 'a', 'd', 'i', 'g', 'r', 'm', 'b', 'c', 'p', 's'], 6)"
      ]
     },
     "execution_count": 10,
     "metadata": {},
     "output_type": "execute_result"
    }
   ],
   "source": [
    "dictionary = open(\"/kaggle/input/yeshui/words_250000_train.txt\").read().splitlines()\n",
    "# Test code to run in a separate cell after defining the model classes\n",
    "random.shuffle(dictionary)\n",
    "word_list = dictionary[:2500]\n",
    "\n",
    "print(\"Starting training...\")\n",
    "print(f\"Training on {len(word_list)} words\")\n",
    "model = train_model(word_list, epochs=50)\n",
    "\n",
    "print(\"\\nTraining completed!\")\n",
    "torch.save(model.module.state_dict() if isinstance(model, nn.DataParallel) else model.state_dict(), \"best_model.pth\")\n",
    "print(\"Model saved as 'best_model.pth'\")\n",
    "\n",
    "solver = HangmanSolver(word_list)\n",
    "solver.model = model\n",
    "solver.model.eval()\n",
    "\n",
    "# Game simulation\n",
    "def simulate_hangman_game(word, solver, max_wrong=6, verbose=True):\n",
    "    word = word.lower()\n",
    "    current = '_' * len(word)\n",
    "    guessed = set()\n",
    "    wrong_count = 0\n",
    "    moves = []\n",
    "\n",
    "    if verbose:\n",
    "        print(f\"\\n{'='*30}\\nGAME: {word}\\n{'='*30}\")\n",
    "\n",
    "    while '_' in current and wrong_count < max_wrong:\n",
    "        if verbose:\n",
    "            print(f\"Current: {current}\\nWrong guesses: {wrong_count}/{max_wrong}\")\n",
    "\n",
    "        letter = solver.predict_letter(current, guessed)\n",
    "        guessed.add(letter)\n",
    "        moves.append(letter)\n",
    "\n",
    "        if letter in word:\n",
    "            current = ''.join([c if c == letter or current[i] != '_' else '_' for i, c in enumerate(word)])\n",
    "            if verbose:\n",
    "                print(f\"✓ Correct! Guessed: {letter}\")\n",
    "        else:\n",
    "            wrong_count += 1\n",
    "            if verbose:\n",
    "                print(f\"✗ Wrong! Guessed: {letter}\")\n",
    "        if verbose:\n",
    "            print()\n",
    "\n",
    "    if verbose:\n",
    "        if '_' not in current:\n",
    "            print(f\"🎉 WON! Final word: {current}\")\n",
    "        else:\n",
    "            print(f\"💀 LOST! Word was: {word}\")\n",
    "        print(f\"Moves: {' -> '.join(moves)}\")\n",
    "\n",
    "    return '_' not in current, moves, wrong_count\n",
    "\n",
    "# Run game test\n",
    "simulate_hangman_game(\"learning\", solver, verbose=True)"
   ]
  }
 ],
 "metadata": {
  "accelerator": "GPU",
  "colab": {
   "gpuType": "T4",
   "provenance": []
  },
  "kaggle": {
   "accelerator": "nvidiaTeslaT4",
   "dataSources": [
    {
     "datasetId": 7638565,
     "sourceId": 12130125,
     "sourceType": "datasetVersion"
    }
   ],
   "dockerImageVersionId": 31040,
   "isGpuEnabled": true,
   "isInternetEnabled": true,
   "language": "python",
   "sourceType": "notebook"
  },
  "kernelspec": {
   "display_name": "Python 3",
   "language": "python",
   "name": "python3"
  },
  "language_info": {
   "codemirror_mode": {
    "name": "ipython",
    "version": 3
   },
   "file_extension": ".py",
   "mimetype": "text/x-python",
   "name": "python",
   "nbconvert_exporter": "python",
   "pygments_lexer": "ipython3",
   "version": "3.11.11"
  }
 },
 "nbformat": 4,
 "nbformat_minor": 4
}
